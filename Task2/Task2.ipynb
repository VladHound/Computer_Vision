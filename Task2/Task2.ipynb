{
 "cells": [
  {
   "cell_type": "code",
   "execution_count": 1,
   "id": "b78c772b",
   "metadata": {},
   "outputs": [],
   "source": [
    "import cv2\n",
    "import numpy as np"
   ]
  },
  {
   "cell_type": "code",
   "execution_count": 2,
   "id": "dc1c6274",
   "metadata": {},
   "outputs": [],
   "source": [
    "def saturation(filename, ratio=1.2):\n",
    "    print(\"Saturation change: Start\")\n",
    "    bgr_image = cv2.imread(filename, 1)\n",
    "    lab_image = cv2.cvtColor(bgr_image, cv2.COLOR_BGR2LAB)\n",
    "    l = np.array(lab_image[:, :, 0], np.float32)\n",
    "    a = np.array(lab_image[:, :, 1], np.float32)\n",
    "    b = np.array(lab_image[:, :, 2], np.float32)\n",
    "    h, w = a.shape\n",
    "    for i in range(h):\n",
    "        for k in range(w):\n",
    "            a[i, k] = min(255, a[i, k] * ratio)\n",
    "    h, w = b.shape\n",
    "    for i in range(h):\n",
    "        for k in range(w):\n",
    "            b[i, k] = min(255, b[i, k] * ratio)\n",
    "    res = cv2.merge([l, a, b])\n",
    "    res = cv2.cvtColor(res.astype(\"uint8\"), cv2.COLOR_LAB2BGR)\n",
    "    cv2.imwrite(\"saturation_\" + str(ratio) + \"_\" + filename, res)\n",
    "    print(\"Saturation change: Done\")"
   ]
  },
  {
   "cell_type": "code",
   "execution_count": 3,
   "id": "8d362c25",
   "metadata": {},
   "outputs": [],
   "source": [
    "def brightness(filename, delta=50):\n",
    "    print(\"Brightness change: Start\")\n",
    "    bgr_image = cv2.imread(filename, 1)\n",
    "    lab_image = cv2.cvtColor(bgr_image, cv2.COLOR_BGR2LAB)\n",
    "    l = np.array(lab_image[:, :, 0], np.float32)\n",
    "    h, w = l.shape\n",
    "    for i in range(h):\n",
    "        for k in range(w):\n",
    "            l[i, k] = min(255, l[i, k] + delta)\n",
    "    a = np.array(lab_image[:, :, 1], np.float32)\n",
    "    b = np.array(lab_image[:, :, 2], np.float32)\n",
    "    res = cv2.merge([l, a, b])\n",
    "    res = cv2.cvtColor(res.astype(\"uint8\"), cv2.COLOR_LAB2BGR)\n",
    "    cv2.imwrite(\"brightness_\" + str(delta) + \"_\" + filename, res)\n",
    "    print(\"Brightness change: Done\")"
   ]
  },
  {
   "cell_type": "code",
   "execution_count": 4,
   "id": "faa38a61",
   "metadata": {},
   "outputs": [
    {
     "name": "stdout",
     "output_type": "stream",
     "text": [
      "Saturation change: Start\n",
      "Saturation change: Done\n"
     ]
    }
   ],
   "source": [
    "saturation(\"photo.jpg\", 0.5)"
   ]
  },
  {
   "cell_type": "code",
   "execution_count": 5,
   "id": "68dd78e1",
   "metadata": {},
   "outputs": [
    {
     "name": "stdout",
     "output_type": "stream",
     "text": [
      "Brightness change: Start\n",
      "Brightness change: Done\n"
     ]
    }
   ],
   "source": [
    "brightness(\"photo.jpg\", 150)"
   ]
  }
 ],
 "metadata": {
  "kernelspec": {
   "display_name": "Python 3 (ipykernel)",
   "language": "python",
   "name": "python3"
  },
  "language_info": {
   "codemirror_mode": {
    "name": "ipython",
    "version": 3
   },
   "file_extension": ".py",
   "mimetype": "text/x-python",
   "name": "python",
   "nbconvert_exporter": "python",
   "pygments_lexer": "ipython3",
   "version": "3.8.6"
  }
 },
 "nbformat": 4,
 "nbformat_minor": 5
}
