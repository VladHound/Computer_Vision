{
 "cells": [
  {
   "cell_type": "code",
   "execution_count": 1,
   "id": "a09a8940",
   "metadata": {},
   "outputs": [],
   "source": [
    "import os\n",
    "import cv2\n",
    "import numpy as np\n",
    "from matplotlib import pyplot as plt"
   ]
  },
  {
   "cell_type": "code",
   "execution_count": 2,
   "id": "4b390679",
   "metadata": {},
   "outputs": [],
   "source": [
    "def average_brightness(image, left_border, right_border, bottom_border, top_border):\n",
    "    if right_border < left_border or top_border < bottom_border:\n",
    "        raise Exception(\"Wrong borders!\")\n",
    "    gray_image = cv2.cvtColor(image, cv2.COLOR_BGR2GRAY)\n",
    "    cropped_gray_image = gray_image[bottom_border:top_border, left_border:right_border]\n",
    "    h, w = cropped_gray_image.shape\n",
    "    denominator = h * w\n",
    "    nominator = 0\n",
    "    for i in range(h):\n",
    "        for k in range(w):\n",
    "            nominator += cropped_gray_image[i, k]\n",
    "    return nominator / denominator"
   ]
  },
  {
   "cell_type": "code",
   "execution_count": 3,
   "id": "ad6a85eb",
   "metadata": {},
   "outputs": [
    {
     "name": "stdout",
     "output_type": "stream",
     "text": [
      "process ev-1.jpg\n",
      "process ev-10.jpg\n",
      "process ev-2.jpg\n",
      "process ev-3.jpg\n",
      "process ev-4.jpg\n",
      "process ev-5.jpg\n",
      "process ev-6.jpg\n",
      "process ev-7.jpg\n",
      "process ev-8.jpg\n",
      "process ev-9.jpg\n",
      "process ev0.jpg\n",
      "process ev1.jpg\n",
      "process ev10.jpg\n",
      "process ev2.jpg\n",
      "process ev3.jpg\n",
      "process ev4.jpg\n",
      "process ev5.jpg\n",
      "process ev6.jpg\n",
      "process ev7.jpg\n",
      "process ev8.jpg\n",
      "process ev9.jpg\n"
     ]
    },
    {
     "data": {
      "text/plain": [
       "[[-1, -10, -2, -3, -4, -5, -6, -7, -8, -9, 0, 1, 10, 2, 3, 4, 5, 6, 7, 8, 9],\n",
       " [115.65876428571428,\n",
       "  79.46582380952381,\n",
       "  111.76109523809524,\n",
       "  106.8041,\n",
       "  103.22899285714286,\n",
       "  99.41521547619048,\n",
       "  94.97720238095238,\n",
       "  87.4888130952381,\n",
       "  87.46801666666667,\n",
       "  78.94880952380953,\n",
       "  115.64782857142858,\n",
       "  119.97896666666666,\n",
       "  161.49737976190477,\n",
       "  119.89076904761905,\n",
       "  137.36369642857142,\n",
       "  137.05274523809524,\n",
       "  139.98225952380952,\n",
       "  153.5371,\n",
       "  148.56465833333334,\n",
       "  154.6227392857143,\n",
       "  157.78045]]"
      ]
     },
     "execution_count": 3,
     "metadata": {},
     "output_type": "execute_result"
    }
   ],
   "source": [
    "left_border = 40\n",
    "right_border = 1240\n",
    "bottom_border = 10\n",
    "top_border = 710\n",
    "data_dir = \"dd/\"\n",
    "ev = []\n",
    "avg_brightness = []\n",
    "for filename in os.listdir(data_dir):\n",
    "    print(f\"process {filename}\")\n",
    "    ev.append(int(filename[filename.find(\"ev\") + 2: -len(\".jpg\")]))\n",
    "    image = cv2.imread(data_dir + filename)\n",
    "    avg_brightness.append(average_brightness(image, left_border, right_border, bottom_border, top_border))\n",
    "\n",
    "[ev, avg_brightness]"
   ]
  },
  {
   "cell_type": "code",
   "execution_count": 4,
   "id": "ae5dd9b6",
   "metadata": {},
   "outputs": [
    {
     "data": {
      "image/png": "[encoded data removed]",
      "text/plain": [
       "<Figure size 432x288 with 1 Axes>"
      ]
     },
     "metadata": {
      "needs_background": "light"
     },
     "output_type": "display_data"
    }
   ],
   "source": [
    "plt.scatter(ev, avg_brightness)\n",
    "plt.xlabel(\"EV\")\n",
    "plt.ylabel(\"Average brightness\")\n",
    "plt.grid()"
   ]
  },
  {
   "cell_type": "code",
   "execution_count": 5,
   "id": "5cb0475d",
   "metadata": {},
   "outputs": [
    {
     "data": {
      "image/png": "[encoded data removed]",
      "text/plain": [
       "<Figure size 432x288 with 1 Axes>"
      ]
     },
     "metadata": {
      "needs_background": "light"
     },
     "output_type": "display_data"
    }
   ],
   "source": [
    "plt.scatter(ev, np.log10(avg_brightness))\n",
    "plt.xlabel(\"EV\")\n",
    "plt.ylabel(\"Average brightness Log 10\")\n",
    "plt.grid()"
   ]
  }
 ],
 "metadata": {
  "kernelspec": {
   "display_name": "Python 3 (ipykernel)",
   "language": "python",
   "name": "python3"
  },
  "language_info": {
   "codemirror_mode": {
    "name": "ipython",
    "version": 3
   },
   "file_extension": ".py",
   "mimetype": "text/x-python",
   "name": "python",
   "nbconvert_exporter": "python",
   "pygments_lexer": "ipython3",
   "version": "3.8.6"
  }
 },
 "nbformat": 4,
 "nbformat_minor": 5
}
