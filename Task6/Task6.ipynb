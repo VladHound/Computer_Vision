{
  "cells": [
    {
      "cell_type": "markdown",
      "source": [
        "Классификация изображений с помощью сверточной нейросети на PyTorch."
      ],
      "metadata": {
        "id": "L2gmp_haKPZ_"
      },
      "id": "L2gmp_haKPZ_"
    },
    {
      "cell_type": "code",
      "execution_count": 1,
      "metadata": {
        "id": "6f2df8da"
      },
      "outputs": [],
      "source": [
        "import numpy as np\n",
        "import torch\n",
        "import os\n",
        "import cv2\n",
        "from tqdm import tqdm\n",
        "from torch.utils.data import Dataset, DataLoader\n",
        "from torchvision.models import resnet34\n",
        "from google.colab import auth\n",
        "from googleapiclient.discovery import build\n",
        "from sklearn.model_selection import train_test_split\n",
        "from sklearn.metrics import accuracy_score\n",
        "import random\n",
        "import albumentations as A"
      ],
      "id": "6f2df8da"
    },
    {
      "cell_type": "markdown",
      "source": [
        "Нейросеть будет тренироваться на датасете животных. Данные хранятся на моём Google Диске в архиве animal.zip. Данный архив имеет 5 папок: chiken - курицы, cow - коровы, horse - лошади, pig - свиньи, sheep - овцы."
      ],
      "metadata": {
        "id": "ytw7Ekmk5YFh"
      },
      "id": "ytw7Ekmk5YFh"
    },
    {
      "cell_type": "code",
      "execution_count": 2,
      "metadata": {
        "colab": {
          "base_uri": "https://localhost:8080/"
        },
        "id": "4Feo598jFXAn",
        "outputId": "3909eff1-06dd-4d1d-da1b-1bca6903a0e7"
      },
      "outputs": [
        {
          "output_type": "stream",
          "name": "stdout",
          "text": [
            "Archive:  animal.zip\n",
            "   creating: animal/chicken/\n",
            "  inflating: animal/chicken/__opt__aboutcom__coeus__resources__content_migration__mnn__images__2020__03__rhode-island-hen-7f9b1b93dba8401999c52f85096fbe6c.jpg  \n",
            "  inflating: animal/chicken/1920x1152_0xac120003_12931955381643790208.jpeg  \n",
            "  inflating: animal/chicken/2.jpg    \n",
            "  inflating: animal/chicken/20184925_176_0_1600_1068_1920x0_80_0_0_f8d5b37be51b0c5d2a04bf844b5a2854.jpg  \n",
            "  inflating: animal/chicken/300px-chicken.jpg  \n",
            "  inflating: animal/chicken/34de2eb0-83dd-4ce5-906e-f6169bbcbefe.jpg  \n",
            "  inflating: animal/chicken/755484022851458.jpg  \n",
            "  inflating: animal/chicken/b616282d.jpg  \n",
            "  inflating: animal/chicken/Brown-Layer.jpg  \n",
            "  inflating: animal/chicken/brown-rooster-white-background-isolated-object-live-chicken-one-closeup-farm-animal-92774881.jpg  \n",
            "  inflating: animal/chicken/brown-rooster-white-background-isolated-object-live-chicken-one-closeup-farm-animal-92919155.jpg  \n",
            "  inflating: animal/chicken/chicken_home_image_one-750x558.jpg  \n",
            "  inflating: animal/chicken/chicken-4849979__480.jpg  \n",
            "  inflating: animal/chicken/chicken-killing-chongqing-metro.jpg  \n",
            "  inflating: animal/chicken/custom_25367_17.jpg  \n",
            "  inflating: animal/chicken/depositphotos_13927400-stock-photo-chicken-isolated-on-white.jpg  \n",
            "  inflating: animal/chicken/DSC_0166.jpg  \n",
            "  inflating: animal/chicken/file-20180925-149976-1wevklf.jpg  \n",
            "  inflating: animal/chicken/images-9.jpeg  \n",
            "  inflating: animal/chicken/Interesnye-fakty-o-kuricze.jpg  \n",
            "  inflating: animal/chicken/istockphoto-627031476-612x612.jpg  \n",
            "  inflating: animal/chicken/live briolwr-fi22728450.jpg  \n",
            "  inflating: animal/chicken/live-Chicken.jpg  \n",
            "  inflating: animal/chicken/Live-Chicken1.jpg  \n",
            "  inflating: animal/chicken/Live-Chicken-Shonalika-650g-Per-Pcs.jpg  \n",
            "  inflating: animal/chicken/Live-chicken-tiltfarm-e1588544891479.jpg  \n",
            "  inflating: animal/chicken/Male_and_female_chicken_sitting_together.jpg  \n",
            "  inflating: animal/chicken/MM5_1.jpg  \n",
            "  inflating: animal/chicken/poultry-live-chicken-500x500.jpg  \n",
            "  inflating: animal/chicken/Untitled-design-6.png  \n",
            "   creating: animal/cow/\n",
            "  inflating: animal/cow/09082019-1.jpg  \n",
            "  inflating: animal/cow/15403015_929_0_2976_2047_1920x0_80_0_0_11d597194f720a934e3e310c4818d226.jpg  \n",
            "  inflating: animal/cow/1920x1152_0xac120003_17253449761608225517.jpg  \n",
            "  inflating: animal/cow/1c88a8df7b5de2f3d93c0fd4a4f6737b_ce_1281x853x146x13_cropped_666x444.jpg  \n",
            "  inflating: animal/cow/20210918_stp504.jpg  \n",
            "  inflating: animal/cow/26-610x336.jpg  \n",
            "  inflating: animal/cow/4KcaQDFAD3ogFttIZsIhwS.png  \n",
            "  inflating: animal/cow/5e3924a8887b3.jpg  \n",
            "  inflating: animal/cow/5f96ec664743a3001216b9bb.jpg  \n",
            "  inflating: animal/cow/640px-Gelbvieh.jpg  \n",
            "  inflating: animal/cow/640px-Koe_in_weiland_bij_Gorssel.jpg  \n",
            "  inflating: animal/cow/brown-Guernsey-cow.jpg  \n",
            "  inflating: animal/cow/Clara123_newsarticle.jpg  \n",
            "  inflating: animal/cow/Cow.jpg      \n",
            "  inflating: animal/cow/Cow_(Fleckvieh_breed)_Oeschinensee_Slaunger_2009-07-07.jpg  \n",
            "  inflating: animal/cow/cow_55631443.jpg  \n",
            "  inflating: animal/cow/Cow_female_black_white.jpg  \n",
            "  inflating: animal/cow/cow-4960242_960_720(1).jpg  \n",
            "  inflating: animal/cow/cow-photo.jpg  \n",
            "  inflating: animal/cow/Cow-standing-in-the-grassy-field_AnitaBozic_Pixabay-760x507.jpg  \n",
            "  inflating: animal/cow/frontiers-bioengineering-biotechnology-cow-rumen-microbes-source-of-novel-enzymes-breaking-down-plastic-waste.jpg  \n",
            "  inflating: animal/cow/istockphoto-1205758678-612x612.jpg  \n",
            "  inflating: animal/cow/milking-cow-outdoors.jpg  \n",
            "  inflating: animal/cow/photo-1570042225831-d98fa7577f1e.jpg  \n",
            "  inflating: animal/cow/Rotvieh.jpg  \n",
            "  inflating: animal/cow/shutterstock_2058055541.jpg  \n",
            "  inflating: animal/cow/square_1024_3a6f73a3260604c9a2236f3c6341a3f9.jpg  \n",
            "  inflating: animal/cow/The-cow-favors-natural-over-synthetic-vitamin-E.jpg  \n",
            "  inflating: animal/cow/VIER PFOTEN_2015-04-27_010-1927x1333.jpg  \n",
            "  inflating: animal/cow/World-s-first-GE-cow-is-a-milestone-study.jpg  \n",
            "   creating: animal/horse/\n",
            "  inflating: animal/horse/0x0-horses-the-wings-of-mankind-1527015927739.jpg  \n",
            "  inflating: animal/horse/1-729.jpg  \n",
            "  inflating: animal/horse/22277692_67_0_1774_1280_1920x0_80_0_0_212b7822737a8df0f826b1bb9ca8af4b.jpg  \n",
            "  inflating: animal/horse/37378.jpg  \n",
            "  inflating: animal/horse/640px-Horse_in_field.jpg  \n",
            "  inflating: animal/horse/chem-otlichaetsya-kon-ot-loshadi.jpg  \n",
            "  inflating: animal/horse/cute3.jpg  \n",
            "  inflating: animal/horse/fotokred-froydis-norsk-hestesenter-flip.jpg  \n",
            "  inflating: animal/horse/fresian-black-horse-500-pcs-high-quality-collection_g8Vrv2F.jpg  \n",
            "  inflating: animal/horse/gelding-bay-coat.jpg  \n",
            "  inflating: animal/horse/horse.primary-e9a47e1c486c4fb7bf729e05b59cf0df.jpg  \n",
            "  inflating: animal/horse/horse_84139573.jpg  \n",
            "  inflating: animal/horse/horse1.jpg  \n",
            "  inflating: animal/horse/horse-galloping-in-grass-688899769-587673275f9b584db3a44cdf.jpg  \n",
            "  inflating: animal/horse/images.jpg  \n",
            "  inflating: animal/horse/IMG_4578.jpg  \n",
            "  inflating: animal/horse/Karachay_horse.jpg  \n",
            "  inflating: animal/horse/MA_00600259_vpf1m0.jpg  \n",
            "  inflating: animal/horse/maxresdefault.jpg  \n",
            "  inflating: animal/horse/National-Horse-Day-1.jpg  \n",
            "  inflating: animal/horse/Orlovsky_trotter.jpg  \n",
            "  inflating: animal/horse/Pernod_Al_Ariba_0046b.jpg  \n",
            "  inflating: animal/horse/photo-1553284965-83fd3e82fa5a.jpg  \n",
            "  inflating: animal/horse/Running-gallop-black-Friesian-horse_Makarova-Viktoria_Shutterstock.jpg  \n",
            "  inflating: animal/horse/Silver_Champagne_horse.jpg  \n",
            "  inflating: animal/horse/Skolko-vesit-600x450.jpg  \n",
            "  inflating: animal/horse/the-horse-1500-parca-high-quality-collection_rj5qdHF.jpg  \n",
            "  inflating: animal/horse/two-horses-fence-wire-260nw-1919953820.jpg  \n",
            "  inflating: animal/horse/White-horse-running.jpg  \n",
            "  inflating: animal/horse/woodrow-rearing-square.jpg  \n",
            "   creating: animal/pig/\n",
            "  inflating: animal/pig/200910224_gaf_u46_4944.jpg  \n",
            "  inflating: animal/pig/243efaea813bb3f794f730daa53c630d.jpg  \n",
            "  inflating: animal/pig/3ae6d498d4f7a4d5201664393b6b1e32.jpg  \n",
            "  inflating: animal/pig/5_reasons_pigs_make_great_pets_update_header.png  \n",
            "  inflating: animal/pig/5472.jpg     \n",
            "  inflating: animal/pig/61WdixjupoL._AC_SL1024_.jpg  \n",
            "  inflating: animal/pig/8794d0d1c690f4c3b4772269f63be988.jpg  \n",
            "  inflating: animal/pig/AFP_99Y976_1627885536076_1627885560376.png  \n",
            "  inflating: animal/pig/cute_pig_GettyImages_847218080.0.jpg  \n",
            "  inflating: animal/pig/depositphotos_5537290-stock-photo-young-pig-on-a-green.jpg  \n",
            "  inflating: animal/pig/detail_a129b6a7c6a9bf42fe62ac88d4fbf40a.jpg  \n",
            "  inflating: animal/pig/e2305ce0-237e-11e9-9177-bd3ae24bba4f_image_hires_184120.jpg  \n",
            "  inflating: animal/pig/Home-Page_Cam.png  \n",
            "  inflating: animal/pig/how-to-choose-pig-breeds-3016785-hero-cb25512cbdd9459dab4e2fad478355ae.jpg  \n",
            "  inflating: animal/pig/istockphoto-956025942-612x612.jpg  \n",
            "  inflating: animal/pig/kak-uznat-skolko-vesit-svinya.jpg  \n",
            "  inflating: animal/pig/KMO_085553_04957_1_t218_170122.jpg  \n",
            "  inflating: animal/pig/older-grower-pigs.jpg  \n",
            "  inflating: animal/pig/pig.png      \n",
            "  inflating: animal/pig/pig_162595.png  \n",
            "  inflating: animal/pig/Pig_farm_Vampula_9.jpg  \n",
            "  inflating: animal/pig/PigaPigaPiga.jpg  \n",
            "  inflating: animal/pig/pig-fence.png  \n",
            "  inflating: animal/pig/pig-photo.jpg  \n",
            "  inflating: animal/pig/pig-portrait-e1646764026696.jpg  \n",
            "  inflating: animal/pig/pig-tales_9780393240245-1-_wide-ff64be1d4945228dd4bf7f4a10cbc7b08ff9ada5.jpg  \n",
            "  inflating: animal/pig/pig-young-closeup_2x3.png  \n",
            "  inflating: animal/pig/Sow_and_five_piglets.jpg  \n",
            "  inflating: animal/pig/VP0113037-1927x1333-1920x1328.jpg  \n",
            "  inflating: animal/pig/Yorkshire-boar.png  \n",
            "   creating: animal/sheep/\n",
            "  inflating: animal/sheep/123282362_hi042879001.jpg  \n",
            "  inflating: animal/sheep/1599849094.jpg  \n",
            "  inflating: animal/sheep/477334244_fb34fe6b5a_z-640x400.jpg  \n",
            "  inflating: animal/sheep/800xjyucccccccccjhj-730x486.jpg  \n",
            "  inflating: animal/sheep/870x489_0x0_detail_crop_20210224233922_63483d23_81f2db9e82bf49a8bae3bf5ada364c4dba156854660aa71cbd9e2011ee98169e.jpg  \n",
            "  inflating: animal/sheep/article35189.jpg  \n",
            "  inflating: animal/sheep/Ascanian_-_male.jpg  \n",
            "  inflating: animal/sheep/bond-sheep-in-the-field_manizosx_Shutterstock-760x507.jpg  \n",
            "  inflating: animal/sheep/Cotswold_Sheep_(cropped).JPG  \n",
            "  inflating: animal/sheep/domashnya-ovca.jpg  \n",
            "  inflating: animal/sheep/file-20200330-173620-1q1nz5d.jpg  \n",
            "  inflating: animal/sheep/Fluffy-sheep-1024x682.jpg  \n",
            "  inflating: animal/sheep/-foto-ovcy-4-e1418850899916.jpg  \n",
            "  inflating: animal/sheep/Funny-Sheep-Facts-1200x800.jpg  \n",
            "  inflating: animal/sheep/interesnie-fakti-ob-ovtsah-e1497193937168.jpg  \n",
            "  inflating: animal/sheep/iStock-182344013.jpg  \n",
            "  inflating: animal/sheep/istockphoto-1164046558-612x612.jpg  \n",
            "  inflating: animal/sheep/istockphoto-1207362002-170667a.jpg  \n",
            "  inflating: animal/sheep/LPJVLZGCTJD5LOBQPQV7G33GJA.jpg  \n",
            "  inflating: animal/sheep/Ovca.jpg   \n",
            "  inflating: animal/sheep/Ovis_orientalis_aries_'Skudde'_(aka).jpg  \n",
            "  inflating: animal/sheep/rabstol_net_sheep_02.jpg  \n",
            "  inflating: animal/sheep/sau-se-rett-i-kamera.jpg  \n",
            "  inflating: animal/sheep/sheep_127120226.jpg  \n",
            "  inflating: animal/sheep/sheep-2.jpg  \n",
            "  inflating: animal/sheep/sheep-eating-grass.jpg  \n",
            "  inflating: animal/sheep/sheep-photo.jpg  \n",
            "  inflating: animal/sheep/Sheeps1.jpg  \n",
            "  inflating: animal/sheep/thumb_1200x630_sheep-2641172-1920.jpg  \n",
            "  inflating: animal/sheep/what-is-a-baby-sheep-called-1024x538.jpg  \n"
          ]
        }
      ],
      "source": [
        "def download_data(file_id, file_name):\n",
        "  import io\n",
        "  from googleapiclient.http import MediaIoBaseDownload\n",
        "\n",
        "  request = drive_service.files().get_media(fileId=file_id)\n",
        "  downloaded = io.BytesIO()\n",
        "  downloader = MediaIoBaseDownload(downloaded, request)\n",
        "  done = False\n",
        "  while done is False:\n",
        "    _, done = downloader.next_chunk()\n",
        "    \n",
        "  downloaded.seek(0)\n",
        "  with open(file_name, \"wb\") as f:\n",
        "    f.write(downloaded.read())\n",
        "  \n",
        "auth.authenticate_user()\n",
        "drive_service = build(\"drive\", \"v3\")\n",
        "\n",
        "file_id = \"1lve_mj6Aivvs0bElu4EOlHanxSVQBq08\"\n",
        "file_name = \"animal.zip\"\n",
        "\n",
        "download_data(file_id, file_name)\n",
        "!unzip animal.zip"
      ],
      "id": "4Feo598jFXAn"
    },
    {
      "cell_type": "markdown",
      "source": [
        "Далее заводятся списки названий файлов, которым присваивается класс в зависимости от номера папки."
      ],
      "metadata": {
        "id": "AA2-Ha7A7ImR"
      },
      "id": "AA2-Ha7A7ImR"
    },
    {
      "cell_type": "code",
      "execution_count": 3,
      "metadata": {
        "colab": {
          "base_uri": "https://localhost:8080/"
        },
        "id": "0fd90a85",
        "outputId": "ce79400d-7b84-4662-f08a-fb0e5b1e896d"
      },
      "outputs": [
        {
          "output_type": "stream",
          "name": "stdout",
          "text": [
            "Берём файлы из папки \"sheep\" и даём им класс 0\n",
            "Берём файлы из папки \"pig\" и даём им класс 1\n",
            "Берём файлы из папки \"horse\" и даём им класс 2\n",
            "Берём файлы из папки \"cow\" и даём им класс 3\n",
            "Берём файлы из папки \"chicken\" и даём им класс 4\n"
          ]
        }
      ],
      "source": [
        "filenames = []\n",
        "labels = []\n",
        "path = \"animal\"\n",
        "for idx, class_dir in enumerate(os.listdir(path)):\n",
        "  print(f\"Берём файлы из папки \\\"{class_dir}\\\" и даём им класс {idx}\")\n",
        "\n",
        "  for file in os.listdir(os.path.join(path, class_dir)):\n",
        "    if not file.endswith((\".jpg\", \".jpeg\", \".png\")):\n",
        "      continue\n",
        "\n",
        "    filenames.append(os.path.join(path, class_dir, file))\n",
        "    labels.append(idx)"
      ],
      "id": "0fd90a85"
    },
    {
      "cell_type": "markdown",
      "source": [
        "Затем датасет разбивается на тренировочную и тестовую выборки в отношении 70/30."
      ],
      "metadata": {
        "id": "v0fn9m4c8Gb2"
      },
      "id": "v0fn9m4c8Gb2"
    },
    {
      "cell_type": "code",
      "execution_count": 4,
      "metadata": {
        "id": "982dc23a"
      },
      "outputs": [],
      "source": [
        "train_filenames, test_filenames, train_labels, test_labels = train_test_split(filenames, labels, test_size=0.3, random_state=42)"
      ],
      "id": "982dc23a"
    },
    {
      "cell_type": "markdown",
      "source": [
        "Функция add_pad служит для добавления полей к изображениям, чтобы привести их к квадратному формату."
      ],
      "metadata": {
        "id": "1ynB9iPG9Hsv"
      },
      "id": "1ynB9iPG9Hsv"
    },
    {
      "cell_type": "code",
      "execution_count": 5,
      "metadata": {
        "id": "f92dfb86"
      },
      "outputs": [],
      "source": [
        "def add_pad(img, shape):\n",
        "  color_pick = img[0][0]\n",
        "  padded_img = color_pick * np.ones(shape + img.shape[2:3], dtype=np.uint8)\n",
        "  x_offset = int((padded_img.shape[0] - img.shape[0]) / 2)\n",
        "  y_offset = int((padded_img.shape[1] - img.shape[1]) / 2)\n",
        "  padded_img[x_offset:x_offset + img.shape[0], y_offset:y_offset + img.shape[1]] = img\n",
        "  return padded_img"
      ],
      "id": "f92dfb86"
    },
    {
      "cell_type": "markdown",
      "source": [
        "Функция resize меняет разрешение изображения."
      ],
      "metadata": {
        "id": "CxS3Tpc99JLu"
      },
      "id": "CxS3Tpc99JLu"
    },
    {
      "cell_type": "code",
      "execution_count": 6,
      "metadata": {
        "id": "99b1461d"
      },
      "outputs": [],
      "source": [
        "def resize(img, shape):\n",
        "  scale = min(shape[0] * 1.0 / img.shape[0], shape[1] * 1.0 / img.shape[1])\n",
        "  if scale != 1:\n",
        "    img = cv2.resize(img, dsize=None, fx=scale, fy=scale, interpolation=cv2.INTER_LINEAR)\n",
        "  return img"
      ],
      "id": "99b1461d"
    },
    {
      "cell_type": "markdown",
      "source": [
        "Функция transform_album применяет аугментации к изображению."
      ],
      "metadata": {
        "id": "Yu5kLad89KRR"
      },
      "id": "Yu5kLad89KRR"
    },
    {
      "cell_type": "code",
      "execution_count": 7,
      "metadata": {
        "id": "b2e0fc47"
      },
      "outputs": [],
      "source": [
        "def transform_album(image):\n",
        "  transform = A.Compose([\n",
        "    A.RandomRotate90(),\n",
        "    A.Flip(),\n",
        "    A.Transpose(),\n",
        "    A.OneOf([\n",
        "      A.IAAAdditiveGaussianNoise(),\n",
        "      A.GaussNoise(),\n",
        "    ], p=0.2),\n",
        "    A.OneOf([\n",
        "      A.MotionBlur(p=.2),\n",
        "      A.MedianBlur(blur_limit=3, p=0.1),\n",
        "      A.Blur(blur_limit=3, p=0.1),\n",
        "    ], p=0.2),\n",
        "    A.ShiftScaleRotate(shift_limit=0.0625, scale_limit=0.2, rotate_limit=45, p=0.2),\n",
        "    A.OneOf([\n",
        "      A.OpticalDistortion(p=0.3),\n",
        "      A.GridDistortion(p=.1),\n",
        "      A.IAAPiecewiseAffine(p=0.3),\n",
        "    ], p=0.2),\n",
        "    A.OneOf([\n",
        "      A.CLAHE(clip_limit=2),\n",
        "      A.IAASharpen(),\n",
        "      A.IAAEmboss(),\n",
        "      A.RandomBrightnessContrast(),\n",
        "    ], p=0.3),\n",
        "    A.HueSaturationValue(p=0.3),\n",
        "  ])\n",
        "  random.seed(42)\n",
        "  augmented_image = transform(image=image)[\"image\"]\n",
        "  return augmented_image"
      ],
      "id": "b2e0fc47"
    },
    {
      "cell_type": "markdown",
      "source": [
        "Класс AnimalDataset возвращает преобразованное изображение по индексу."
      ],
      "metadata": {
        "id": "yWSmUXab9xeb"
      },
      "id": "yWSmUXab9xeb"
    },
    {
      "cell_type": "code",
      "execution_count": 8,
      "metadata": {
        "id": "d3fd4afc"
      },
      "outputs": [],
      "source": [
        "class AnimalDataset(Dataset):\n",
        "  def __init__(self, filenames, labels):\n",
        "    self._filenames = filenames\n",
        "    self._labels = labels\n",
        "\n",
        "  def __len__(self):\n",
        "    return len(self._filenames)\n",
        "\n",
        "  def __getitem__(self, idx):\n",
        "    filename = self._filenames[idx]\n",
        "    label = self._labels[idx]\n",
        "    img = cv2.imread(filename)\n",
        "    img = cv2.cvtColor(img, cv2.COLOR_BGR2RGB)\n",
        "    img = resize(img, (224, 224))\n",
        "    img = add_pad(img, (224, 224))\n",
        "    img = transform_album(img)\n",
        "    img = torch.tensor(img, dtype=torch.float).permute(2, 0, 1) / 255.\n",
        "    return img, label"
      ],
      "id": "d3fd4afc"
    },
    {
      "cell_type": "markdown",
      "source": [
        "Для тренировочной и тестовой выборки создаются датасеты и даталоадеры. Dataloader просит возвращать Dataset данные по idx и составляет из них батчи."
      ],
      "metadata": {
        "id": "S_scagUkCJJq"
      },
      "id": "S_scagUkCJJq"
    },
    {
      "cell_type": "code",
      "execution_count": 9,
      "metadata": {
        "id": "a6a75d36"
      },
      "outputs": [],
      "source": [
        "train_dataset = AnimalDataset(train_filenames, train_labels)\n",
        "train_dataloader = DataLoader(train_dataset, shuffle=True, batch_size=64, num_workers=0)\n",
        "test_dataset = AnimalDataset(test_filenames, test_labels)\n",
        "test_dataloader = DataLoader(test_dataset, shuffle=True, batch_size=108, num_workers=0)"
      ],
      "id": "a6a75d36"
    },
    {
      "cell_type": "markdown",
      "source": [
        "В качестве исходной модели выступает предобученная resnet34. В ней последний слой заменяется на голову, классифицирующую изображение на 1 из 5 классов. CrossEntropyLoss берётся в качестве лосса, а Adam - в качестве оптимизатора. Все слои сети, кроме последнего, замораживаются. Далее он будет обучаться."
      ],
      "metadata": {
        "id": "77l60B47Cybs"
      },
      "id": "77l60B47Cybs"
    },
    {
      "cell_type": "code",
      "execution_count": 10,
      "metadata": {
        "id": "ed8622b3",
        "colab": {
          "base_uri": "https://localhost:8080/",
          "height": 66,
          "referenced_widgets": [
            "2927dd720df34332a10d743f52eaba40",
            "dfb0d85f2ef74554b121ee1d384370ea",
            "bee59c1271664746a342678b0c959942",
            "4c66f1c2c4b0402bb21825b70ffba8fa",
            "8463ed4aaa3a436a8518e27885375a3a",
            "a2dc843b8f024f9e9eeee86ca9c25204",
            "41d8fbbef549431cb4ffbc074b3d5020",
            "42bdc57742f844d7b7792faed6111307",
            "9eaa420df6e446e5b5440a4e88ab5244",
            "768071eb1699404c8daf0b134d73e130",
            "caa8f58395774f4bbca5317b62027db9"
          ]
        },
        "outputId": "85096047-3e70-4d1a-80fa-e780436d6539"
      },
      "outputs": [
        {
          "output_type": "stream",
          "name": "stderr",
          "text": [
            "Downloading: \"https://download.pytorch.org/models/resnet34-b627a593.pth\" to /root/.cache/torch/hub/checkpoints/resnet34-b627a593.pth\n"
          ]
        },
        {
          "output_type": "display_data",
          "data": {
            "text/plain": [
              "  0%|          | 0.00/83.3M [00:00<?, ?B/s]"
            ],
            "application/vnd.jupyter.widget-view+json": {
              "version_major": 2,
              "version_minor": 0,
              "model_id": "2927dd720df34332a10d743f52eaba40"
            }
          },
          "metadata": {}
        }
      ],
      "source": [
        "model = resnet34(pretrained=True)\n",
        "for param in model.parameters():\n",
        "  param.requires_grad = False\n",
        "\n",
        "criterion = torch.nn.CrossEntropyLoss()\n",
        "optimizer = torch.optim.Adam(model.parameters(), lr=0.0005)"
      ],
      "id": "ed8622b3"
    },
    {
      "cell_type": "markdown",
      "source": [
        "Последний слой на 1000 классов удаляется и заменяется на новый с выходом на 5 классов."
      ],
      "metadata": {
        "id": "0nfoDRhSFlI7"
      },
      "id": "0nfoDRhSFlI7"
    },
    {
      "cell_type": "code",
      "execution_count": 11,
      "metadata": {
        "colab": {
          "base_uri": "https://localhost:8080/"
        },
        "id": "5c531ba2",
        "outputId": "6f83256d-6907-4422-8dc5-db674a07152d"
      },
      "outputs": [
        {
          "output_type": "execute_result",
          "data": {
            "text/plain": [
              "ResNet(\n",
              "  (conv1): Conv2d(3, 64, kernel_size=(7, 7), stride=(2, 2), padding=(3, 3), bias=False)\n",
              "  (bn1): BatchNorm2d(64, eps=1e-05, momentum=0.1, affine=True, track_running_stats=True)\n",
              "  (relu): ReLU(inplace=True)\n",
              "  (maxpool): MaxPool2d(kernel_size=3, stride=2, padding=1, dilation=1, ceil_mode=False)\n",
              "  (layer1): Sequential(\n",
              "    (0): BasicBlock(\n",
              "      (conv1): Conv2d(64, 64, kernel_size=(3, 3), stride=(1, 1), padding=(1, 1), bias=False)\n",
              "      (bn1): BatchNorm2d(64, eps=1e-05, momentum=0.1, affine=True, track_running_stats=True)\n",
              "      (relu): ReLU(inplace=True)\n",
              "      (conv2): Conv2d(64, 64, kernel_size=(3, 3), stride=(1, 1), padding=(1, 1), bias=False)\n",
              "      (bn2): BatchNorm2d(64, eps=1e-05, momentum=0.1, affine=True, track_running_stats=True)\n",
              "    )\n",
              "    (1): BasicBlock(\n",
              "      (conv1): Conv2d(64, 64, kernel_size=(3, 3), stride=(1, 1), padding=(1, 1), bias=False)\n",
              "      (bn1): BatchNorm2d(64, eps=1e-05, momentum=0.1, affine=True, track_running_stats=True)\n",
              "      (relu): ReLU(inplace=True)\n",
              "      (conv2): Conv2d(64, 64, kernel_size=(3, 3), stride=(1, 1), padding=(1, 1), bias=False)\n",
              "      (bn2): BatchNorm2d(64, eps=1e-05, momentum=0.1, affine=True, track_running_stats=True)\n",
              "    )\n",
              "    (2): BasicBlock(\n",
              "      (conv1): Conv2d(64, 64, kernel_size=(3, 3), stride=(1, 1), padding=(1, 1), bias=False)\n",
              "      (bn1): BatchNorm2d(64, eps=1e-05, momentum=0.1, affine=True, track_running_stats=True)\n",
              "      (relu): ReLU(inplace=True)\n",
              "      (conv2): Conv2d(64, 64, kernel_size=(3, 3), stride=(1, 1), padding=(1, 1), bias=False)\n",
              "      (bn2): BatchNorm2d(64, eps=1e-05, momentum=0.1, affine=True, track_running_stats=True)\n",
              "    )\n",
              "  )\n",
              "  (layer2): Sequential(\n",
              "    (0): BasicBlock(\n",
              "      (conv1): Conv2d(64, 128, kernel_size=(3, 3), stride=(2, 2), padding=(1, 1), bias=False)\n",
              "      (bn1): BatchNorm2d(128, eps=1e-05, momentum=0.1, affine=True, track_running_stats=True)\n",
              "      (relu): ReLU(inplace=True)\n",
              "      (conv2): Conv2d(128, 128, kernel_size=(3, 3), stride=(1, 1), padding=(1, 1), bias=False)\n",
              "      (bn2): BatchNorm2d(128, eps=1e-05, momentum=0.1, affine=True, track_running_stats=True)\n",
              "      (downsample): Sequential(\n",
              "        (0): Conv2d(64, 128, kernel_size=(1, 1), stride=(2, 2), bias=False)\n",
              "        (1): BatchNorm2d(128, eps=1e-05, momentum=0.1, affine=True, track_running_stats=True)\n",
              "      )\n",
              "    )\n",
              "    (1): BasicBlock(\n",
              "      (conv1): Conv2d(128, 128, kernel_size=(3, 3), stride=(1, 1), padding=(1, 1), bias=False)\n",
              "      (bn1): BatchNorm2d(128, eps=1e-05, momentum=0.1, affine=True, track_running_stats=True)\n",
              "      (relu): ReLU(inplace=True)\n",
              "      (conv2): Conv2d(128, 128, kernel_size=(3, 3), stride=(1, 1), padding=(1, 1), bias=False)\n",
              "      (bn2): BatchNorm2d(128, eps=1e-05, momentum=0.1, affine=True, track_running_stats=True)\n",
              "    )\n",
              "    (2): BasicBlock(\n",
              "      (conv1): Conv2d(128, 128, kernel_size=(3, 3), stride=(1, 1), padding=(1, 1), bias=False)\n",
              "      (bn1): BatchNorm2d(128, eps=1e-05, momentum=0.1, affine=True, track_running_stats=True)\n",
              "      (relu): ReLU(inplace=True)\n",
              "      (conv2): Conv2d(128, 128, kernel_size=(3, 3), stride=(1, 1), padding=(1, 1), bias=False)\n",
              "      (bn2): BatchNorm2d(128, eps=1e-05, momentum=0.1, affine=True, track_running_stats=True)\n",
              "    )\n",
              "    (3): BasicBlock(\n",
              "      (conv1): Conv2d(128, 128, kernel_size=(3, 3), stride=(1, 1), padding=(1, 1), bias=False)\n",
              "      (bn1): BatchNorm2d(128, eps=1e-05, momentum=0.1, affine=True, track_running_stats=True)\n",
              "      (relu): ReLU(inplace=True)\n",
              "      (conv2): Conv2d(128, 128, kernel_size=(3, 3), stride=(1, 1), padding=(1, 1), bias=False)\n",
              "      (bn2): BatchNorm2d(128, eps=1e-05, momentum=0.1, affine=True, track_running_stats=True)\n",
              "    )\n",
              "  )\n",
              "  (layer3): Sequential(\n",
              "    (0): BasicBlock(\n",
              "      (conv1): Conv2d(128, 256, kernel_size=(3, 3), stride=(2, 2), padding=(1, 1), bias=False)\n",
              "      (bn1): BatchNorm2d(256, eps=1e-05, momentum=0.1, affine=True, track_running_stats=True)\n",
              "      (relu): ReLU(inplace=True)\n",
              "      (conv2): Conv2d(256, 256, kernel_size=(3, 3), stride=(1, 1), padding=(1, 1), bias=False)\n",
              "      (bn2): BatchNorm2d(256, eps=1e-05, momentum=0.1, affine=True, track_running_stats=True)\n",
              "      (downsample): Sequential(\n",
              "        (0): Conv2d(128, 256, kernel_size=(1, 1), stride=(2, 2), bias=False)\n",
              "        (1): BatchNorm2d(256, eps=1e-05, momentum=0.1, affine=True, track_running_stats=True)\n",
              "      )\n",
              "    )\n",
              "    (1): BasicBlock(\n",
              "      (conv1): Conv2d(256, 256, kernel_size=(3, 3), stride=(1, 1), padding=(1, 1), bias=False)\n",
              "      (bn1): BatchNorm2d(256, eps=1e-05, momentum=0.1, affine=True, track_running_stats=True)\n",
              "      (relu): ReLU(inplace=True)\n",
              "      (conv2): Conv2d(256, 256, kernel_size=(3, 3), stride=(1, 1), padding=(1, 1), bias=False)\n",
              "      (bn2): BatchNorm2d(256, eps=1e-05, momentum=0.1, affine=True, track_running_stats=True)\n",
              "    )\n",
              "    (2): BasicBlock(\n",
              "      (conv1): Conv2d(256, 256, kernel_size=(3, 3), stride=(1, 1), padding=(1, 1), bias=False)\n",
              "      (bn1): BatchNorm2d(256, eps=1e-05, momentum=0.1, affine=True, track_running_stats=True)\n",
              "      (relu): ReLU(inplace=True)\n",
              "      (conv2): Conv2d(256, 256, kernel_size=(3, 3), stride=(1, 1), padding=(1, 1), bias=False)\n",
              "      (bn2): BatchNorm2d(256, eps=1e-05, momentum=0.1, affine=True, track_running_stats=True)\n",
              "    )\n",
              "    (3): BasicBlock(\n",
              "      (conv1): Conv2d(256, 256, kernel_size=(3, 3), stride=(1, 1), padding=(1, 1), bias=False)\n",
              "      (bn1): BatchNorm2d(256, eps=1e-05, momentum=0.1, affine=True, track_running_stats=True)\n",
              "      (relu): ReLU(inplace=True)\n",
              "      (conv2): Conv2d(256, 256, kernel_size=(3, 3), stride=(1, 1), padding=(1, 1), bias=False)\n",
              "      (bn2): BatchNorm2d(256, eps=1e-05, momentum=0.1, affine=True, track_running_stats=True)\n",
              "    )\n",
              "    (4): BasicBlock(\n",
              "      (conv1): Conv2d(256, 256, kernel_size=(3, 3), stride=(1, 1), padding=(1, 1), bias=False)\n",
              "      (bn1): BatchNorm2d(256, eps=1e-05, momentum=0.1, affine=True, track_running_stats=True)\n",
              "      (relu): ReLU(inplace=True)\n",
              "      (conv2): Conv2d(256, 256, kernel_size=(3, 3), stride=(1, 1), padding=(1, 1), bias=False)\n",
              "      (bn2): BatchNorm2d(256, eps=1e-05, momentum=0.1, affine=True, track_running_stats=True)\n",
              "    )\n",
              "    (5): BasicBlock(\n",
              "      (conv1): Conv2d(256, 256, kernel_size=(3, 3), stride=(1, 1), padding=(1, 1), bias=False)\n",
              "      (bn1): BatchNorm2d(256, eps=1e-05, momentum=0.1, affine=True, track_running_stats=True)\n",
              "      (relu): ReLU(inplace=True)\n",
              "      (conv2): Conv2d(256, 256, kernel_size=(3, 3), stride=(1, 1), padding=(1, 1), bias=False)\n",
              "      (bn2): BatchNorm2d(256, eps=1e-05, momentum=0.1, affine=True, track_running_stats=True)\n",
              "    )\n",
              "  )\n",
              "  (layer4): Sequential(\n",
              "    (0): BasicBlock(\n",
              "      (conv1): Conv2d(256, 512, kernel_size=(3, 3), stride=(2, 2), padding=(1, 1), bias=False)\n",
              "      (bn1): BatchNorm2d(512, eps=1e-05, momentum=0.1, affine=True, track_running_stats=True)\n",
              "      (relu): ReLU(inplace=True)\n",
              "      (conv2): Conv2d(512, 512, kernel_size=(3, 3), stride=(1, 1), padding=(1, 1), bias=False)\n",
              "      (bn2): BatchNorm2d(512, eps=1e-05, momentum=0.1, affine=True, track_running_stats=True)\n",
              "      (downsample): Sequential(\n",
              "        (0): Conv2d(256, 512, kernel_size=(1, 1), stride=(2, 2), bias=False)\n",
              "        (1): BatchNorm2d(512, eps=1e-05, momentum=0.1, affine=True, track_running_stats=True)\n",
              "      )\n",
              "    )\n",
              "    (1): BasicBlock(\n",
              "      (conv1): Conv2d(512, 512, kernel_size=(3, 3), stride=(1, 1), padding=(1, 1), bias=False)\n",
              "      (bn1): BatchNorm2d(512, eps=1e-05, momentum=0.1, affine=True, track_running_stats=True)\n",
              "      (relu): ReLU(inplace=True)\n",
              "      (conv2): Conv2d(512, 512, kernel_size=(3, 3), stride=(1, 1), padding=(1, 1), bias=False)\n",
              "      (bn2): BatchNorm2d(512, eps=1e-05, momentum=0.1, affine=True, track_running_stats=True)\n",
              "    )\n",
              "    (2): BasicBlock(\n",
              "      (conv1): Conv2d(512, 512, kernel_size=(3, 3), stride=(1, 1), padding=(1, 1), bias=False)\n",
              "      (bn1): BatchNorm2d(512, eps=1e-05, momentum=0.1, affine=True, track_running_stats=True)\n",
              "      (relu): ReLU(inplace=True)\n",
              "      (conv2): Conv2d(512, 512, kernel_size=(3, 3), stride=(1, 1), padding=(1, 1), bias=False)\n",
              "      (bn2): BatchNorm2d(512, eps=1e-05, momentum=0.1, affine=True, track_running_stats=True)\n",
              "    )\n",
              "  )\n",
              "  (avgpool): AdaptiveAvgPool2d(output_size=(1, 1))\n",
              "  (fc): Linear(in_features=512, out_features=5, bias=True)\n",
              ")"
            ]
          },
          "metadata": {},
          "execution_count": 11
        }
      ],
      "source": [
        "num_ftrs = model.fc.in_features\n",
        "model.fc = torch.nn.Linear(num_ftrs, 5)\n",
        "model.to(\"cuda\")"
      ],
      "id": "5c531ba2"
    },
    {
      "cell_type": "markdown",
      "source": [
        "Функция run_test_on_epoch считает точность модели - на вход передается сама модель, номер эпохи и тестовый лоадер."
      ],
      "metadata": {
        "id": "lD-9VUwNDUkb"
      },
      "id": "lD-9VUwNDUkb"
    },
    {
      "cell_type": "code",
      "execution_count": 12,
      "metadata": {
        "id": "7881ef03"
      },
      "outputs": [],
      "source": [
        "def run_test_on_epoch(model, epoch, test_loader):\n",
        "  model.eval()\n",
        "  with torch.no_grad():\n",
        "    test_accuracy = []\n",
        "    test_real = []\n",
        "    for batch_x, batch_y in tqdm(test_loader):\n",
        "      outputs = model(batch_x.to(\"cuda\")).detach().cpu().numpy()\n",
        "      test_accuracy.append(outputs)\n",
        "      test_real.append(batch_y.detach().cpu().numpy())\n",
        "    print(\"Точность теста эпохи\", epoch, \"равна\", accuracy_score(np.hstack(test_real), np.argmax(np.hstack(test_accuracy), axis=1)))\n",
        "  model.train()"
      ],
      "id": "7881ef03"
    },
    {
      "cell_type": "markdown",
      "source": [
        "Обучение модели проходит в течение 25 эпох. Последние 3 слоя размораживаются. В конце каждой эпохи вызывается run_test_on_epoch, чтобы следить за точностью теста эпохи."
      ],
      "metadata": {
        "id": "E5wEHVPNDcZ3"
      },
      "id": "E5wEHVPNDcZ3"
    },
    {
      "cell_type": "code",
      "execution_count": 13,
      "metadata": {
        "colab": {
          "base_uri": "https://localhost:8080/"
        },
        "id": "9da415d0",
        "outputId": "c0c440fb-161e-4bd6-a54d-24113e0fb21d"
      },
      "outputs": [
        {
          "output_type": "stream",
          "name": "stderr",
          "text": [
            "  0%|          | 0/25 [00:00<?, ?it/s]\n",
            "  0%|          | 0/1 [00:00<?, ?it/s]\u001b[A\n",
            "100%|██████████| 1/1 [00:02<00:00,  2.62s/it]\n",
            "  4%|▍         | 1/25 [00:11<04:45, 11.88s/it]"
          ]
        },
        {
          "output_type": "stream",
          "name": "stdout",
          "text": [
            "Точность теста эпохи 0 равна 0.9111111111111111\n"
          ]
        },
        {
          "output_type": "stream",
          "name": "stderr",
          "text": [
            "\n",
            "  0%|          | 0/1 [00:00<?, ?it/s]\u001b[A\n",
            "100%|██████████| 1/1 [00:01<00:00,  1.68s/it]\n",
            "  8%|▊         | 2/25 [00:17<03:06,  8.11s/it]"
          ]
        },
        {
          "output_type": "stream",
          "name": "stdout",
          "text": [
            "Точность теста эпохи 1 равна 0.8444444444444444\n"
          ]
        },
        {
          "output_type": "stream",
          "name": "stderr",
          "text": [
            "\n",
            "  0%|          | 0/1 [00:00<?, ?it/s]\u001b[A\n",
            "100%|██████████| 1/1 [00:01<00:00,  1.61s/it]\n",
            " 12%|█▏        | 3/25 [00:22<02:31,  6.89s/it]"
          ]
        },
        {
          "output_type": "stream",
          "name": "stdout",
          "text": [
            "Точность теста эпохи 2 равна 0.7333333333333333\n"
          ]
        },
        {
          "output_type": "stream",
          "name": "stderr",
          "text": [
            "\n",
            "  0%|          | 0/1 [00:00<?, ?it/s]\u001b[A\n",
            "100%|██████████| 1/1 [00:01<00:00,  1.62s/it]\n",
            " 16%|█▌        | 4/25 [00:28<02:12,  6.30s/it]"
          ]
        },
        {
          "output_type": "stream",
          "name": "stdout",
          "text": [
            "Точность теста эпохи 3 равна 0.7555555555555555\n"
          ]
        },
        {
          "output_type": "stream",
          "name": "stderr",
          "text": [
            "\n",
            "  0%|          | 0/1 [00:00<?, ?it/s]\u001b[A\n",
            "100%|██████████| 1/1 [00:01<00:00,  1.64s/it]\n",
            " 20%|██        | 5/25 [00:33<02:00,  6.00s/it]"
          ]
        },
        {
          "output_type": "stream",
          "name": "stdout",
          "text": [
            "Точность теста эпохи 4 равна 0.7555555555555555\n"
          ]
        },
        {
          "output_type": "stream",
          "name": "stderr",
          "text": [
            "\n",
            "  0%|          | 0/1 [00:00<?, ?it/s]\u001b[A\n",
            "100%|██████████| 1/1 [00:01<00:00,  1.63s/it]\n",
            " 24%|██▍       | 6/25 [00:39<01:50,  5.81s/it]"
          ]
        },
        {
          "output_type": "stream",
          "name": "stdout",
          "text": [
            "Точность теста эпохи 5 равна 0.7555555555555555\n"
          ]
        },
        {
          "output_type": "stream",
          "name": "stderr",
          "text": [
            "\n",
            "  0%|          | 0/1 [00:00<?, ?it/s]\u001b[A\n",
            "100%|██████████| 1/1 [00:01<00:00,  1.62s/it]\n",
            " 28%|██▊       | 7/25 [00:44<01:42,  5.69s/it]"
          ]
        },
        {
          "output_type": "stream",
          "name": "stdout",
          "text": [
            "Точность теста эпохи 6 равна 0.8444444444444444\n"
          ]
        },
        {
          "output_type": "stream",
          "name": "stderr",
          "text": [
            "\n",
            "  0%|          | 0/1 [00:00<?, ?it/s]\u001b[A\n",
            "100%|██████████| 1/1 [00:01<00:00,  1.65s/it]\n",
            " 32%|███▏      | 8/25 [00:50<01:35,  5.62s/it]"
          ]
        },
        {
          "output_type": "stream",
          "name": "stdout",
          "text": [
            "Точность теста эпохи 7 равна 0.8666666666666667\n"
          ]
        },
        {
          "output_type": "stream",
          "name": "stderr",
          "text": [
            "\n",
            "  0%|          | 0/1 [00:00<?, ?it/s]\u001b[A\n",
            "100%|██████████| 1/1 [00:01<00:00,  1.66s/it]\n",
            " 36%|███▌      | 9/25 [00:55<01:29,  5.58s/it]"
          ]
        },
        {
          "output_type": "stream",
          "name": "stdout",
          "text": [
            "Точность теста эпохи 8 равна 0.8888888888888888\n"
          ]
        },
        {
          "output_type": "stream",
          "name": "stderr",
          "text": [
            "\n",
            "  0%|          | 0/1 [00:00<?, ?it/s]\u001b[A\n",
            "100%|██████████| 1/1 [00:01<00:00,  1.63s/it]\n",
            " 40%|████      | 10/25 [01:00<01:23,  5.54s/it]"
          ]
        },
        {
          "output_type": "stream",
          "name": "stdout",
          "text": [
            "Точность теста эпохи 9 равна 0.8888888888888888\n"
          ]
        },
        {
          "output_type": "stream",
          "name": "stderr",
          "text": [
            "\n",
            "  0%|          | 0/1 [00:00<?, ?it/s]\u001b[A\n",
            "100%|██████████| 1/1 [00:01<00:00,  1.64s/it]\n",
            " 44%|████▍     | 11/25 [01:06<01:17,  5.51s/it]"
          ]
        },
        {
          "output_type": "stream",
          "name": "stdout",
          "text": [
            "Точность теста эпохи 10 равна 0.8888888888888888\n"
          ]
        },
        {
          "output_type": "stream",
          "name": "stderr",
          "text": [
            "\n",
            "  0%|          | 0/1 [00:00<?, ?it/s]\u001b[A\n",
            "100%|██████████| 1/1 [00:01<00:00,  1.60s/it]\n",
            " 48%|████▊     | 12/25 [01:11<01:11,  5.47s/it]"
          ]
        },
        {
          "output_type": "stream",
          "name": "stdout",
          "text": [
            "Точность теста эпохи 11 равна 0.9111111111111111\n"
          ]
        },
        {
          "output_type": "stream",
          "name": "stderr",
          "text": [
            "\n",
            "  0%|          | 0/1 [00:00<?, ?it/s]\u001b[A\n",
            "100%|██████████| 1/1 [00:02<00:00,  2.03s/it]\n",
            " 52%|█████▏    | 13/25 [01:17<01:06,  5.57s/it]"
          ]
        },
        {
          "output_type": "stream",
          "name": "stdout",
          "text": [
            "Точность теста эпохи 12 равна 0.8888888888888888\n"
          ]
        },
        {
          "output_type": "stream",
          "name": "stderr",
          "text": [
            "\n",
            "  0%|          | 0/1 [00:00<?, ?it/s]\u001b[A\n",
            "100%|██████████| 1/1 [00:01<00:00,  1.58s/it]\n",
            " 56%|█████▌    | 14/25 [01:23<01:01,  5.60s/it]"
          ]
        },
        {
          "output_type": "stream",
          "name": "stdout",
          "text": [
            "Точность теста эпохи 13 равна 0.9111111111111111\n"
          ]
        },
        {
          "output_type": "stream",
          "name": "stderr",
          "text": [
            "\n",
            "  0%|          | 0/1 [00:00<?, ?it/s]\u001b[A\n",
            "100%|██████████| 1/1 [00:01<00:00,  1.60s/it]\n",
            " 60%|██████    | 15/25 [01:28<00:55,  5.52s/it]"
          ]
        },
        {
          "output_type": "stream",
          "name": "stdout",
          "text": [
            "Точность теста эпохи 14 равна 0.9111111111111111\n"
          ]
        },
        {
          "output_type": "stream",
          "name": "stderr",
          "text": [
            "\n",
            "  0%|          | 0/1 [00:00<?, ?it/s]\u001b[A\n",
            "100%|██████████| 1/1 [00:01<00:00,  1.58s/it]\n",
            " 64%|██████▍   | 16/25 [01:33<00:49,  5.45s/it]"
          ]
        },
        {
          "output_type": "stream",
          "name": "stdout",
          "text": [
            "Точность теста эпохи 15 равна 0.9333333333333333\n"
          ]
        },
        {
          "output_type": "stream",
          "name": "stderr",
          "text": [
            "\n",
            "  0%|          | 0/1 [00:00<?, ?it/s]\u001b[A\n",
            "100%|██████████| 1/1 [00:01<00:00,  1.59s/it]\n",
            " 68%|██████▊   | 17/25 [01:39<00:43,  5.42s/it]"
          ]
        },
        {
          "output_type": "stream",
          "name": "stdout",
          "text": [
            "Точность теста эпохи 16 равна 0.9777777777777777\n"
          ]
        },
        {
          "output_type": "stream",
          "name": "stderr",
          "text": [
            "\n",
            "  0%|          | 0/1 [00:00<?, ?it/s]\u001b[A\n",
            "100%|██████████| 1/1 [00:01<00:00,  1.61s/it]\n",
            " 72%|███████▏  | 18/25 [01:44<00:37,  5.39s/it]"
          ]
        },
        {
          "output_type": "stream",
          "name": "stdout",
          "text": [
            "Точность теста эпохи 17 равна 0.9777777777777777\n"
          ]
        },
        {
          "output_type": "stream",
          "name": "stderr",
          "text": [
            "\n",
            "  0%|          | 0/1 [00:00<?, ?it/s]\u001b[A\n",
            "100%|██████████| 1/1 [00:01<00:00,  1.63s/it]\n",
            " 76%|███████▌  | 19/25 [01:49<00:32,  5.40s/it]"
          ]
        },
        {
          "output_type": "stream",
          "name": "stdout",
          "text": [
            "Точность теста эпохи 18 равна 0.9777777777777777\n"
          ]
        },
        {
          "output_type": "stream",
          "name": "stderr",
          "text": [
            "\n",
            "  0%|          | 0/1 [00:00<?, ?it/s]\u001b[A\n",
            "100%|██████████| 1/1 [00:01<00:00,  1.64s/it]\n",
            " 80%|████████  | 20/25 [01:55<00:27,  5.40s/it]"
          ]
        },
        {
          "output_type": "stream",
          "name": "stdout",
          "text": [
            "Точность теста эпохи 19 равна 0.9777777777777777\n"
          ]
        },
        {
          "output_type": "stream",
          "name": "stderr",
          "text": [
            "\n",
            "  0%|          | 0/1 [00:00<?, ?it/s]\u001b[A\n",
            "100%|██████████| 1/1 [00:01<00:00,  1.59s/it]\n",
            " 84%|████████▍ | 21/25 [02:00<00:21,  5.40s/it]"
          ]
        },
        {
          "output_type": "stream",
          "name": "stdout",
          "text": [
            "Точность теста эпохи 20 равна 0.9777777777777777\n"
          ]
        },
        {
          "output_type": "stream",
          "name": "stderr",
          "text": [
            "\n",
            "  0%|          | 0/1 [00:00<?, ?it/s]\u001b[A\n",
            "100%|██████████| 1/1 [00:01<00:00,  1.62s/it]\n",
            " 88%|████████▊ | 22/25 [02:06<00:16,  5.38s/it]"
          ]
        },
        {
          "output_type": "stream",
          "name": "stdout",
          "text": [
            "Точность теста эпохи 21 равна 0.9777777777777777\n"
          ]
        },
        {
          "output_type": "stream",
          "name": "stderr",
          "text": [
            "\n",
            "  0%|          | 0/1 [00:00<?, ?it/s]\u001b[A\n",
            "100%|██████████| 1/1 [00:01<00:00,  1.58s/it]\n",
            " 92%|█████████▏| 23/25 [02:11<00:10,  5.34s/it]"
          ]
        },
        {
          "output_type": "stream",
          "name": "stdout",
          "text": [
            "Точность теста эпохи 22 равна 0.9555555555555556\n"
          ]
        },
        {
          "output_type": "stream",
          "name": "stderr",
          "text": [
            "\n",
            "  0%|          | 0/1 [00:00<?, ?it/s]\u001b[A\n",
            "100%|██████████| 1/1 [00:01<00:00,  1.61s/it]\n",
            " 96%|█████████▌| 24/25 [02:16<00:05,  5.35s/it]"
          ]
        },
        {
          "output_type": "stream",
          "name": "stdout",
          "text": [
            "Точность теста эпохи 23 равна 0.9555555555555556\n"
          ]
        },
        {
          "output_type": "stream",
          "name": "stderr",
          "text": [
            "\n",
            "  0%|          | 0/1 [00:00<?, ?it/s]\u001b[A\n",
            "100%|██████████| 1/1 [00:01<00:00,  1.59s/it]\n",
            "100%|██████████| 25/25 [02:22<00:00,  5.68s/it]"
          ]
        },
        {
          "output_type": "stream",
          "name": "stdout",
          "text": [
            "Точность теста эпохи 24 равна 0.9555555555555556\n"
          ]
        },
        {
          "output_type": "stream",
          "name": "stderr",
          "text": [
            "\n"
          ]
        }
      ],
      "source": [
        "ct = 0\n",
        "for child in model.children():\n",
        "  ct += 1\n",
        "  if ct < 47:\n",
        "    for param in child.parameters():\n",
        "      param.requires_grad = True\n",
        "\n",
        "for epoch in tqdm(range(25)):\n",
        "  for batch in train_dataloader:\n",
        "    optimizer.zero_grad()\n",
        "    image, label = batch\n",
        "    image = image.to(\"cuda\")\n",
        "    label = label.to(\"cuda\")\n",
        "    label_pred = model(image)\n",
        "    loss = criterion(label_pred, label)\n",
        "    loss.backward()\n",
        "    optimizer.step()\n",
        "\n",
        "  run_test_on_epoch(model, epoch, test_dataloader)"
      ],
      "id": "9da415d0"
    }
  ],
  "metadata": {
    "colab": {
      "name": "Task6.ipynb",
      "provenance": [],
      "collapsed_sections": []
    },
    "kernelspec": {
      "display_name": "Python 3 (ipykernel)",
      "language": "python",
      "name": "python3"
    },
    "language_info": {
      "codemirror_mode": {
        "name": "ipython",
        "version": 3
      },
      "file_extension": ".py",
      "mimetype": "text/x-python",
      "name": "python",
      "nbconvert_exporter": "python",
      "pygments_lexer": "ipython3",
      "version": "3.8.6"
    },
    "accelerator": "GPU",
    "widgets": {
      "application/vnd.jupyter.widget-state+json": {
        "2927dd720df34332a10d743f52eaba40": {
          "model_module": "@jupyter-widgets/controls",
          "model_name": "HBoxModel",
          "model_module_version": "1.5.0",
          "state": {
            "_dom_classes": [],
            "_model_module": "@jupyter-widgets/controls",
            "_model_module_version": "1.5.0",
            "_model_name": "HBoxModel",
            "_view_count": null,
            "_view_module": "@jupyter-widgets/controls",
            "_view_module_version": "1.5.0",
            "_view_name": "HBoxView",
            "box_style": "",
            "children": [
              "IPY_MODEL_dfb0d85f2ef74554b121ee1d384370ea",
              "IPY_MODEL_bee59c1271664746a342678b0c959942",
              "IPY_MODEL_4c66f1c2c4b0402bb21825b70ffba8fa"
            ],
            "layout": "IPY_MODEL_8463ed4aaa3a436a8518e27885375a3a"
          }
        },
        "dfb0d85f2ef74554b121ee1d384370ea": {
          "model_module": "@jupyter-widgets/controls",
          "model_name": "HTMLModel",
          "model_module_version": "1.5.0",
          "state": {
            "_dom_classes": [],
            "_model_module": "@jupyter-widgets/controls",
            "_model_module_version": "1.5.0",
            "_model_name": "HTMLModel",
            "_view_count": null,
            "_view_module": "@jupyter-widgets/controls",
            "_view_module_version": "1.5.0",
            "_view_name": "HTMLView",
            "description": "",
            "description_tooltip": null,
            "layout": "IPY_MODEL_a2dc843b8f024f9e9eeee86ca9c25204",
            "placeholder": "​",
            "style": "IPY_MODEL_41d8fbbef549431cb4ffbc074b3d5020",
            "value": "100%"
          }
        },
        "bee59c1271664746a342678b0c959942": {
          "model_module": "@jupyter-widgets/controls",
          "model_name": "FloatProgressModel",
          "model_module_version": "1.5.0",
          "state": {
            "_dom_classes": [],
            "_model_module": "@jupyter-widgets/controls",
            "_model_module_version": "1.5.0",
            "_model_name": "FloatProgressModel",
            "_view_count": null,
            "_view_module": "@jupyter-widgets/controls",
            "_view_module_version": "1.5.0",
            "_view_name": "ProgressView",
            "bar_style": "success",
            "description": "",
            "description_tooltip": null,
            "layout": "IPY_MODEL_42bdc57742f844d7b7792faed6111307",
            "max": 87319819,
            "min": 0,
            "orientation": "horizontal",
            "style": "IPY_MODEL_9eaa420df6e446e5b5440a4e88ab5244",
            "value": 87319819
          }
        },
        "4c66f1c2c4b0402bb21825b70ffba8fa": {
          "model_module": "@jupyter-widgets/controls",
          "model_name": "HTMLModel",
          "model_module_version": "1.5.0",
          "state": {
            "_dom_classes": [],
            "_model_module": "@jupyter-widgets/controls",
            "_model_module_version": "1.5.0",
            "_model_name": "HTMLModel",
            "_view_count": null,
            "_view_module": "@jupyter-widgets/controls",
            "_view_module_version": "1.5.0",
            "_view_name": "HTMLView",
            "description": "",
            "description_tooltip": null,
            "layout": "IPY_MODEL_768071eb1699404c8daf0b134d73e130",
            "placeholder": "​",
            "style": "IPY_MODEL_caa8f58395774f4bbca5317b62027db9",
            "value": " 83.3M/83.3M [00:00&lt;00:00, 134MB/s]"
          }
        },
        "8463ed4aaa3a436a8518e27885375a3a": {
          "model_module": "@jupyter-widgets/base",
          "model_name": "LayoutModel",
          "model_module_version": "1.2.0",
          "state": {
            "_model_module": "@jupyter-widgets/base",
            "_model_module_version": "1.2.0",
            "_model_name": "LayoutModel",
            "_view_count": null,
            "_view_module": "@jupyter-widgets/base",
            "_view_module_version": "1.2.0",
            "_view_name": "LayoutView",
            "align_content": null,
            "align_items": null,
            "align_self": null,
            "border": null,
            "bottom": null,
            "display": null,
            "flex": null,
            "flex_flow": null,
            "grid_area": null,
            "grid_auto_columns": null,
            "grid_auto_flow": null,
            "grid_auto_rows": null,
            "grid_column": null,
            "grid_gap": null,
            "grid_row": null,
            "grid_template_areas": null,
            "grid_template_columns": null,
            "grid_template_rows": null,
            "height": null,
            "justify_content": null,
            "justify_items": null,
            "left": null,
            "margin": null,
            "max_height": null,
            "max_width": null,
            "min_height": null,
            "min_width": null,
            "object_fit": null,
            "object_position": null,
            "order": null,
            "overflow": null,
            "overflow_x": null,
            "overflow_y": null,
            "padding": null,
            "right": null,
            "top": null,
            "visibility": null,
            "width": null
          }
        },
        "a2dc843b8f024f9e9eeee86ca9c25204": {
          "model_module": "@jupyter-widgets/base",
          "model_name": "LayoutModel",
          "model_module_version": "1.2.0",
          "state": {
            "_model_module": "@jupyter-widgets/base",
            "_model_module_version": "1.2.0",
            "_model_name": "LayoutModel",
            "_view_count": null,
            "_view_module": "@jupyter-widgets/base",
            "_view_module_version": "1.2.0",
            "_view_name": "LayoutView",
            "align_content": null,
            "align_items": null,
            "align_self": null,
            "border": null,
            "bottom": null,
            "display": null,
            "flex": null,
            "flex_flow": null,
            "grid_area": null,
            "grid_auto_columns": null,
            "grid_auto_flow": null,
            "grid_auto_rows": null,
            "grid_column": null,
            "grid_gap": null,
            "grid_row": null,
            "grid_template_areas": null,
            "grid_template_columns": null,
            "grid_template_rows": null,
            "height": null,
            "justify_content": null,
            "justify_items": null,
            "left": null,
            "margin": null,
            "max_height": null,
            "max_width": null,
            "min_height": null,
            "min_width": null,
            "object_fit": null,
            "object_position": null,
            "order": null,
            "overflow": null,
            "overflow_x": null,
            "overflow_y": null,
            "padding": null,
            "right": null,
            "top": null,
            "visibility": null,
            "width": null
          }
        },
        "41d8fbbef549431cb4ffbc074b3d5020": {
          "model_module": "@jupyter-widgets/controls",
          "model_name": "DescriptionStyleModel",
          "model_module_version": "1.5.0",
          "state": {
            "_model_module": "@jupyter-widgets/controls",
            "_model_module_version": "1.5.0",
            "_model_name": "DescriptionStyleModel",
            "_view_count": null,
            "_view_module": "@jupyter-widgets/base",
            "_view_module_version": "1.2.0",
            "_view_name": "StyleView",
            "description_width": ""
          }
        },
        "42bdc57742f844d7b7792faed6111307": {
          "model_module": "@jupyter-widgets/base",
          "model_name": "LayoutModel",
          "model_module_version": "1.2.0",
          "state": {
            "_model_module": "@jupyter-widgets/base",
            "_model_module_version": "1.2.0",
            "_model_name": "LayoutModel",
            "_view_count": null,
            "_view_module": "@jupyter-widgets/base",
            "_view_module_version": "1.2.0",
            "_view_name": "LayoutView",
            "align_content": null,
            "align_items": null,
            "align_self": null,
            "border": null,
            "bottom": null,
            "display": null,
            "flex": null,
            "flex_flow": null,
            "grid_area": null,
            "grid_auto_columns": null,
            "grid_auto_flow": null,
            "grid_auto_rows": null,
            "grid_column": null,
            "grid_gap": null,
            "grid_row": null,
            "grid_template_areas": null,
            "grid_template_columns": null,
            "grid_template_rows": null,
            "height": null,
            "justify_content": null,
            "justify_items": null,
            "left": null,
            "margin": null,
            "max_height": null,
            "max_width": null,
            "min_height": null,
            "min_width": null,
            "object_fit": null,
            "object_position": null,
            "order": null,
            "overflow": null,
            "overflow_x": null,
            "overflow_y": null,
            "padding": null,
            "right": null,
            "top": null,
            "visibility": null,
            "width": null
          }
        },
        "9eaa420df6e446e5b5440a4e88ab5244": {
          "model_module": "@jupyter-widgets/controls",
          "model_name": "ProgressStyleModel",
          "model_module_version": "1.5.0",
          "state": {
            "_model_module": "@jupyter-widgets/controls",
            "_model_module_version": "1.5.0",
            "_model_name": "ProgressStyleModel",
            "_view_count": null,
            "_view_module": "@jupyter-widgets/base",
            "_view_module_version": "1.2.0",
            "_view_name": "StyleView",
            "bar_color": null,
            "description_width": ""
          }
        },
        "768071eb1699404c8daf0b134d73e130": {
          "model_module": "@jupyter-widgets/base",
          "model_name": "LayoutModel",
          "model_module_version": "1.2.0",
          "state": {
            "_model_module": "@jupyter-widgets/base",
            "_model_module_version": "1.2.0",
            "_model_name": "LayoutModel",
            "_view_count": null,
            "_view_module": "@jupyter-widgets/base",
            "_view_module_version": "1.2.0",
            "_view_name": "LayoutView",
            "align_content": null,
            "align_items": null,
            "align_self": null,
            "border": null,
            "bottom": null,
            "display": null,
            "flex": null,
            "flex_flow": null,
            "grid_area": null,
            "grid_auto_columns": null,
            "grid_auto_flow": null,
            "grid_auto_rows": null,
            "grid_column": null,
            "grid_gap": null,
            "grid_row": null,
            "grid_template_areas": null,
            "grid_template_columns": null,
            "grid_template_rows": null,
            "height": null,
            "justify_content": null,
            "justify_items": null,
            "left": null,
            "margin": null,
            "max_height": null,
            "max_width": null,
            "min_height": null,
            "min_width": null,
            "object_fit": null,
            "object_position": null,
            "order": null,
            "overflow": null,
            "overflow_x": null,
            "overflow_y": null,
            "padding": null,
            "right": null,
            "top": null,
            "visibility": null,
            "width": null
          }
        },
        "caa8f58395774f4bbca5317b62027db9": {
          "model_module": "@jupyter-widgets/controls",
          "model_name": "DescriptionStyleModel",
          "model_module_version": "1.5.0",
          "state": {
            "_model_module": "@jupyter-widgets/controls",
            "_model_module_version": "1.5.0",
            "_model_name": "DescriptionStyleModel",
            "_view_count": null,
            "_view_module": "@jupyter-widgets/base",
            "_view_module_version": "1.2.0",
            "_view_name": "StyleView",
            "description_width": ""
          }
        }
      }
    }
  },
  "nbformat": 4,
  "nbformat_minor": 5
}