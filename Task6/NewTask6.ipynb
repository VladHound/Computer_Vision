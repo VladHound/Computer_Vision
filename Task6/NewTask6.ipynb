{
  "cells": [
    {
      "cell_type": "markdown",
      "metadata": {
        "id": "L2gmp_haKPZ_"
      },
      "source": [
        "Классификация изображений с помощью сверточной нейросети на PyTorch."
      ],
      "id": "L2gmp_haKPZ_"
    },
    {
      "cell_type": "code",
      "execution_count": 1,
      "metadata": {
        "colab": {
          "base_uri": "https://localhost:8080/"
        },
        "id": "f8UJgU494aE8",
        "outputId": "7515ca91-27fd-4c10-c195-c2bc7aeca77a"
      },
      "outputs": [
        {
          "output_type": "stream",
          "name": "stdout",
          "text": [
            "Collecting timm\n",
            "  Downloading timm-0.5.4-py3-none-any.whl (431 kB)\n",
            "\u001b[K     |████████████████████████████████| 431 kB 5.4 MB/s \n",
            "\u001b[?25hRequirement already satisfied: torch>=1.4 in /usr/local/lib/python3.7/dist-packages (from timm) (1.10.0+cu111)\n",
            "Requirement already satisfied: torchvision in /usr/local/lib/python3.7/dist-packages (from timm) (0.11.1+cu111)\n",
            "Requirement already satisfied: typing-extensions in /usr/local/lib/python3.7/dist-packages (from torch>=1.4->timm) (3.10.0.2)\n",
            "Requirement already satisfied: numpy in /usr/local/lib/python3.7/dist-packages (from torchvision->timm) (1.21.5)\n",
            "Requirement already satisfied: pillow!=8.3.0,>=5.3.0 in /usr/local/lib/python3.7/dist-packages (from torchvision->timm) (7.1.2)\n",
            "Installing collected packages: timm\n",
            "Successfully installed timm-0.5.4\n"
          ]
        }
      ],
      "source": [
        "!pip install timm"
      ],
      "id": "f8UJgU494aE8"
    },
    {
      "cell_type": "code",
      "execution_count": 2,
      "metadata": {
        "colab": {
          "base_uri": "https://localhost:8080/"
        },
        "id": "VzZJcPhN9kG6",
        "outputId": "c5056846-d5f7-4458-f6e6-d416dc6d897c"
      },
      "outputs": [
        {
          "output_type": "stream",
          "name": "stdout",
          "text": [
            "Collecting torch-lr-finder\n",
            "  Downloading torch_lr_finder-0.2.1-py3-none-any.whl (11 kB)\n",
            "Requirement already satisfied: matplotlib in /usr/local/lib/python3.7/dist-packages (from torch-lr-finder) (3.2.2)\n",
            "Requirement already satisfied: tqdm in /usr/local/lib/python3.7/dist-packages (from torch-lr-finder) (4.63.0)\n",
            "Requirement already satisfied: numpy in /usr/local/lib/python3.7/dist-packages (from torch-lr-finder) (1.21.5)\n",
            "Requirement already satisfied: packaging in /usr/local/lib/python3.7/dist-packages (from torch-lr-finder) (21.3)\n",
            "Requirement already satisfied: torch>=0.4.1 in /usr/local/lib/python3.7/dist-packages (from torch-lr-finder) (1.10.0+cu111)\n",
            "Requirement already satisfied: typing-extensions in /usr/local/lib/python3.7/dist-packages (from torch>=0.4.1->torch-lr-finder) (3.10.0.2)\n",
            "Requirement already satisfied: pyparsing!=2.0.4,!=2.1.2,!=2.1.6,>=2.0.1 in /usr/local/lib/python3.7/dist-packages (from matplotlib->torch-lr-finder) (3.0.7)\n",
            "Requirement already satisfied: cycler>=0.10 in /usr/local/lib/python3.7/dist-packages (from matplotlib->torch-lr-finder) (0.11.0)\n",
            "Requirement already satisfied: kiwisolver>=1.0.1 in /usr/local/lib/python3.7/dist-packages (from matplotlib->torch-lr-finder) (1.4.0)\n",
            "Requirement already satisfied: python-dateutil>=2.1 in /usr/local/lib/python3.7/dist-packages (from matplotlib->torch-lr-finder) (2.8.2)\n",
            "Requirement already satisfied: six>=1.5 in /usr/local/lib/python3.7/dist-packages (from python-dateutil>=2.1->matplotlib->torch-lr-finder) (1.15.0)\n",
            "Installing collected packages: torch-lr-finder\n",
            "Successfully installed torch-lr-finder-0.2.1\n"
          ]
        }
      ],
      "source": [
        "!pip install torch-lr-finder"
      ],
      "id": "VzZJcPhN9kG6"
    },
    {
      "cell_type": "code",
      "execution_count": 3,
      "metadata": {
        "id": "6f2df8da"
      },
      "outputs": [],
      "source": [
        "import numpy as np\n",
        "import torch\n",
        "import os\n",
        "import cv2\n",
        "from tqdm import tqdm\n",
        "from torch.utils.data import Dataset, DataLoader\n",
        "from google.colab import auth\n",
        "from googleapiclient.discovery import build\n",
        "from sklearn.model_selection import train_test_split\n",
        "from sklearn.metrics import accuracy_score\n",
        "import random\n",
        "import albumentations as A\n",
        "import timm\n",
        "from torch_lr_finder import LRFinder"
      ],
      "id": "6f2df8da"
    },
    {
      "cell_type": "markdown",
      "metadata": {
        "id": "ytw7Ekmk5YFh"
      },
      "source": [
        "Нейросеть будет тренироваться на датасете животных. Данные хранятся на моём Google Диске в архиве animal.zip. Данный архив имеет 5 папок: chiken - курицы, cow - коровы, horse - лошади, pig - свиньи, sheep - овцы."
      ],
      "id": "ytw7Ekmk5YFh"
    },
    {
      "cell_type": "code",
      "execution_count": 4,
      "metadata": {
        "colab": {
          "base_uri": "https://localhost:8080/"
        },
        "id": "4Feo598jFXAn",
        "outputId": "501c6e30-fe42-46ef-ec00-700ce51e04b3"
      },
      "outputs": [
        {
          "output_type": "stream",
          "name": "stdout",
          "text": [
            "Archive:  animal.zip\n",
            "   creating: animal/chicken/\n",
            "  inflating: animal/chicken/__opt__aboutcom__coeus__resources__content_migration__mnn__images__2020__03__rhode-island-hen-7f9b1b93dba8401999c52f85096fbe6c.jpg  \n",
            "  inflating: animal/chicken/1920x1152_0xac120003_12931955381643790208.jpeg  \n",
            "  inflating: animal/chicken/2.jpg    \n",
            "  inflating: animal/chicken/20184925_176_0_1600_1068_1920x0_80_0_0_f8d5b37be51b0c5d2a04bf844b5a2854.jpg  \n",
            "  inflating: animal/chicken/300px-chicken.jpg  \n",
            "  inflating: animal/chicken/34de2eb0-83dd-4ce5-906e-f6169bbcbefe.jpg  \n",
            "  inflating: animal/chicken/755484022851458.jpg  \n",
            "  inflating: animal/chicken/b616282d.jpg  \n",
            "  inflating: animal/chicken/Brown-Layer.jpg  \n",
            "  inflating: animal/chicken/brown-rooster-white-background-isolated-object-live-chicken-one-closeup-farm-animal-92774881.jpg  \n",
            "  inflating: animal/chicken/brown-rooster-white-background-isolated-object-live-chicken-one-closeup-farm-animal-92919155.jpg  \n",
            "  inflating: animal/chicken/chicken_home_image_one-750x558.jpg  \n",
            "  inflating: animal/chicken/chicken-4849979__480.jpg  \n",
            "  inflating: animal/chicken/chicken-killing-chongqing-metro.jpg  \n",
            "  inflating: animal/chicken/custom_25367_17.jpg  \n",
            "  inflating: animal/chicken/depositphotos_13927400-stock-photo-chicken-isolated-on-white.jpg  \n",
            "  inflating: animal/chicken/DSC_0166.jpg  \n",
            "  inflating: animal/chicken/file-20180925-149976-1wevklf.jpg  \n",
            "  inflating: animal/chicken/images-9.jpeg  \n",
            "  inflating: animal/chicken/Interesnye-fakty-o-kuricze.jpg  \n",
            "  inflating: animal/chicken/istockphoto-627031476-612x612.jpg  \n",
            "  inflating: animal/chicken/live briolwr-fi22728450.jpg  \n",
            "  inflating: animal/chicken/live-Chicken.jpg  \n",
            "  inflating: animal/chicken/Live-Chicken1.jpg  \n",
            "  inflating: animal/chicken/Live-Chicken-Shonalika-650g-Per-Pcs.jpg  \n",
            "  inflating: animal/chicken/Live-chicken-tiltfarm-e1588544891479.jpg  \n",
            "  inflating: animal/chicken/Male_and_female_chicken_sitting_together.jpg  \n",
            "  inflating: animal/chicken/MM5_1.jpg  \n",
            "  inflating: animal/chicken/poultry-live-chicken-500x500.jpg  \n",
            "  inflating: animal/chicken/Untitled-design-6.png  \n",
            "   creating: animal/cow/\n",
            "  inflating: animal/cow/09082019-1.jpg  \n",
            "  inflating: animal/cow/15403015_929_0_2976_2047_1920x0_80_0_0_11d597194f720a934e3e310c4818d226.jpg  \n",
            "  inflating: animal/cow/1920x1152_0xac120003_17253449761608225517.jpg  \n",
            "  inflating: animal/cow/1c88a8df7b5de2f3d93c0fd4a4f6737b_ce_1281x853x146x13_cropped_666x444.jpg  \n",
            "  inflating: animal/cow/20210918_stp504.jpg  \n",
            "  inflating: animal/cow/26-610x336.jpg  \n",
            "  inflating: animal/cow/4KcaQDFAD3ogFttIZsIhwS.png  \n",
            "  inflating: animal/cow/5e3924a8887b3.jpg  \n",
            "  inflating: animal/cow/5f96ec664743a3001216b9bb.jpg  \n",
            "  inflating: animal/cow/640px-Gelbvieh.jpg  \n",
            "  inflating: animal/cow/640px-Koe_in_weiland_bij_Gorssel.jpg  \n",
            "  inflating: animal/cow/brown-Guernsey-cow.jpg  \n",
            "  inflating: animal/cow/Clara123_newsarticle.jpg  \n",
            "  inflating: animal/cow/Cow.jpg      \n",
            "  inflating: animal/cow/Cow_(Fleckvieh_breed)_Oeschinensee_Slaunger_2009-07-07.jpg  \n",
            "  inflating: animal/cow/cow_55631443.jpg  \n",
            "  inflating: animal/cow/Cow_female_black_white.jpg  \n",
            "  inflating: animal/cow/cow-4960242_960_720(1).jpg  \n",
            "  inflating: animal/cow/cow-photo.jpg  \n",
            "  inflating: animal/cow/Cow-standing-in-the-grassy-field_AnitaBozic_Pixabay-760x507.jpg  \n",
            "  inflating: animal/cow/frontiers-bioengineering-biotechnology-cow-rumen-microbes-source-of-novel-enzymes-breaking-down-plastic-waste.jpg  \n",
            "  inflating: animal/cow/istockphoto-1205758678-612x612.jpg  \n",
            "  inflating: animal/cow/milking-cow-outdoors.jpg  \n",
            "  inflating: animal/cow/photo-1570042225831-d98fa7577f1e.jpg  \n",
            "  inflating: animal/cow/Rotvieh.jpg  \n",
            "  inflating: animal/cow/shutterstock_2058055541.jpg  \n",
            "  inflating: animal/cow/square_1024_3a6f73a3260604c9a2236f3c6341a3f9.jpg  \n",
            "  inflating: animal/cow/The-cow-favors-natural-over-synthetic-vitamin-E.jpg  \n",
            "  inflating: animal/cow/VIER PFOTEN_2015-04-27_010-1927x1333.jpg  \n",
            "  inflating: animal/cow/World-s-first-GE-cow-is-a-milestone-study.jpg  \n",
            "   creating: animal/horse/\n",
            "  inflating: animal/horse/0x0-horses-the-wings-of-mankind-1527015927739.jpg  \n",
            "  inflating: animal/horse/1-729.jpg  \n",
            "  inflating: animal/horse/22277692_67_0_1774_1280_1920x0_80_0_0_212b7822737a8df0f826b1bb9ca8af4b.jpg  \n",
            "  inflating: animal/horse/37378.jpg  \n",
            "  inflating: animal/horse/640px-Horse_in_field.jpg  \n",
            "  inflating: animal/horse/chem-otlichaetsya-kon-ot-loshadi.jpg  \n",
            "  inflating: animal/horse/cute3.jpg  \n",
            "  inflating: animal/horse/fotokred-froydis-norsk-hestesenter-flip.jpg  \n",
            "  inflating: animal/horse/fresian-black-horse-500-pcs-high-quality-collection_g8Vrv2F.jpg  \n",
            "  inflating: animal/horse/gelding-bay-coat.jpg  \n",
            "  inflating: animal/horse/horse.primary-e9a47e1c486c4fb7bf729e05b59cf0df.jpg  \n",
            "  inflating: animal/horse/horse_84139573.jpg  \n",
            "  inflating: animal/horse/horse1.jpg  \n",
            "  inflating: animal/horse/horse-galloping-in-grass-688899769-587673275f9b584db3a44cdf.jpg  \n",
            "  inflating: animal/horse/images.jpg  \n",
            "  inflating: animal/horse/IMG_4578.jpg  \n",
            "  inflating: animal/horse/Karachay_horse.jpg  \n",
            "  inflating: animal/horse/MA_00600259_vpf1m0.jpg  \n",
            "  inflating: animal/horse/maxresdefault.jpg  \n",
            "  inflating: animal/horse/National-Horse-Day-1.jpg  \n",
            "  inflating: animal/horse/Orlovsky_trotter.jpg  \n",
            "  inflating: animal/horse/Pernod_Al_Ariba_0046b.jpg  \n",
            "  inflating: animal/horse/photo-1553284965-83fd3e82fa5a.jpg  \n",
            "  inflating: animal/horse/Running-gallop-black-Friesian-horse_Makarova-Viktoria_Shutterstock.jpg  \n",
            "  inflating: animal/horse/Silver_Champagne_horse.jpg  \n",
            "  inflating: animal/horse/Skolko-vesit-600x450.jpg  \n",
            "  inflating: animal/horse/the-horse-1500-parca-high-quality-collection_rj5qdHF.jpg  \n",
            "  inflating: animal/horse/two-horses-fence-wire-260nw-1919953820.jpg  \n",
            "  inflating: animal/horse/White-horse-running.jpg  \n",
            "  inflating: animal/horse/woodrow-rearing-square.jpg  \n",
            "   creating: animal/pig/\n",
            "  inflating: animal/pig/200910224_gaf_u46_4944.jpg  \n",
            "  inflating: animal/pig/243efaea813bb3f794f730daa53c630d.jpg  \n",
            "  inflating: animal/pig/3ae6d498d4f7a4d5201664393b6b1e32.jpg  \n",
            "  inflating: animal/pig/5_reasons_pigs_make_great_pets_update_header.png  \n",
            "  inflating: animal/pig/5472.jpg     \n",
            "  inflating: animal/pig/61WdixjupoL._AC_SL1024_.jpg  \n",
            "  inflating: animal/pig/8794d0d1c690f4c3b4772269f63be988.jpg  \n",
            "  inflating: animal/pig/AFP_99Y976_1627885536076_1627885560376.png  \n",
            "  inflating: animal/pig/cute_pig_GettyImages_847218080.0.jpg  \n",
            "  inflating: animal/pig/depositphotos_5537290-stock-photo-young-pig-on-a-green.jpg  \n",
            "  inflating: animal/pig/detail_a129b6a7c6a9bf42fe62ac88d4fbf40a.jpg  \n",
            "  inflating: animal/pig/e2305ce0-237e-11e9-9177-bd3ae24bba4f_image_hires_184120.jpg  \n",
            "  inflating: animal/pig/Home-Page_Cam.png  \n",
            "  inflating: animal/pig/how-to-choose-pig-breeds-3016785-hero-cb25512cbdd9459dab4e2fad478355ae.jpg  \n",
            "  inflating: animal/pig/istockphoto-956025942-612x612.jpg  \n",
            "  inflating: animal/pig/kak-uznat-skolko-vesit-svinya.jpg  \n",
            "  inflating: animal/pig/KMO_085553_04957_1_t218_170122.jpg  \n",
            "  inflating: animal/pig/older-grower-pigs.jpg  \n",
            "  inflating: animal/pig/pig.png      \n",
            "  inflating: animal/pig/pig_162595.png  \n",
            "  inflating: animal/pig/Pig_farm_Vampula_9.jpg  \n",
            "  inflating: animal/pig/PigaPigaPiga.jpg  \n",
            "  inflating: animal/pig/pig-fence.png  \n",
            "  inflating: animal/pig/pig-photo.jpg  \n",
            "  inflating: animal/pig/pig-portrait-e1646764026696.jpg  \n",
            "  inflating: animal/pig/pig-tales_9780393240245-1-_wide-ff64be1d4945228dd4bf7f4a10cbc7b08ff9ada5.jpg  \n",
            "  inflating: animal/pig/pig-young-closeup_2x3.png  \n",
            "  inflating: animal/pig/Sow_and_five_piglets.jpg  \n",
            "  inflating: animal/pig/VP0113037-1927x1333-1920x1328.jpg  \n",
            "  inflating: animal/pig/Yorkshire-boar.png  \n",
            "   creating: animal/sheep/\n",
            "  inflating: animal/sheep/123282362_hi042879001.jpg  \n",
            "  inflating: animal/sheep/1599849094.jpg  \n",
            "  inflating: animal/sheep/477334244_fb34fe6b5a_z-640x400.jpg  \n",
            "  inflating: animal/sheep/800xjyucccccccccjhj-730x486.jpg  \n",
            "  inflating: animal/sheep/870x489_0x0_detail_crop_20210224233922_63483d23_81f2db9e82bf49a8bae3bf5ada364c4dba156854660aa71cbd9e2011ee98169e.jpg  \n",
            "  inflating: animal/sheep/article35189.jpg  \n",
            "  inflating: animal/sheep/Ascanian_-_male.jpg  \n",
            "  inflating: animal/sheep/bond-sheep-in-the-field_manizosx_Shutterstock-760x507.jpg  \n",
            "  inflating: animal/sheep/Cotswold_Sheep_(cropped).JPG  \n",
            "  inflating: animal/sheep/domashnya-ovca.jpg  \n",
            "  inflating: animal/sheep/file-20200330-173620-1q1nz5d.jpg  \n",
            "  inflating: animal/sheep/Fluffy-sheep-1024x682.jpg  \n",
            "  inflating: animal/sheep/-foto-ovcy-4-e1418850899916.jpg  \n",
            "  inflating: animal/sheep/Funny-Sheep-Facts-1200x800.jpg  \n",
            "  inflating: animal/sheep/interesnie-fakti-ob-ovtsah-e1497193937168.jpg  \n",
            "  inflating: animal/sheep/iStock-182344013.jpg  \n",
            "  inflating: animal/sheep/istockphoto-1164046558-612x612.jpg  \n",
            "  inflating: animal/sheep/istockphoto-1207362002-170667a.jpg  \n",
            "  inflating: animal/sheep/LPJVLZGCTJD5LOBQPQV7G33GJA.jpg  \n",
            "  inflating: animal/sheep/Ovca.jpg   \n",
            "  inflating: animal/sheep/Ovis_orientalis_aries_'Skudde'_(aka).jpg  \n",
            "  inflating: animal/sheep/rabstol_net_sheep_02.jpg  \n",
            "  inflating: animal/sheep/sau-se-rett-i-kamera.jpg  \n",
            "  inflating: animal/sheep/sheep_127120226.jpg  \n",
            "  inflating: animal/sheep/sheep-2.jpg  \n",
            "  inflating: animal/sheep/sheep-eating-grass.jpg  \n",
            "  inflating: animal/sheep/sheep-photo.jpg  \n",
            "  inflating: animal/sheep/Sheeps1.jpg  \n",
            "  inflating: animal/sheep/thumb_1200x630_sheep-2641172-1920.jpg  \n",
            "  inflating: animal/sheep/what-is-a-baby-sheep-called-1024x538.jpg  \n"
          ]
        }
      ],
      "source": [
        "def download_data(file_id, file_name):\n",
        "  import io\n",
        "  from googleapiclient.http import MediaIoBaseDownload\n",
        "\n",
        "  request = drive_service.files().get_media(fileId=file_id)\n",
        "  downloaded = io.BytesIO()\n",
        "  downloader = MediaIoBaseDownload(downloaded, request)\n",
        "  done = False\n",
        "  while done is False:\n",
        "    _, done = downloader.next_chunk()\n",
        "    \n",
        "  downloaded.seek(0)\n",
        "  with open(file_name, \"wb\") as f:\n",
        "    f.write(downloaded.read())\n",
        "  \n",
        "auth.authenticate_user()\n",
        "drive_service = build(\"drive\", \"v3\")\n",
        "\n",
        "file_id = \"1tXCW3nIjN1OW_z1AnRNmgz6ewzT2N-5y\"\n",
        "file_name = \"animal.zip\"\n",
        "\n",
        "download_data(file_id, file_name)\n",
        "!unzip animal.zip"
      ],
      "id": "4Feo598jFXAn"
    },
    {
      "cell_type": "markdown",
      "metadata": {
        "id": "AA2-Ha7A7ImR"
      },
      "source": [
        "Далее заводятся списки названий файлов, которым присваивается класс в зависимости от номера папки."
      ],
      "id": "AA2-Ha7A7ImR"
    },
    {
      "cell_type": "code",
      "execution_count": 5,
      "metadata": {
        "colab": {
          "base_uri": "https://localhost:8080/"
        },
        "id": "0fd90a85",
        "outputId": "0e32deef-ef70-4965-bd2c-4118f8ea9428"
      },
      "outputs": [
        {
          "output_type": "stream",
          "name": "stdout",
          "text": [
            "Берём файлы из папки \"sheep\" и даём им класс 0\n",
            "Берём файлы из папки \"pig\" и даём им класс 1\n",
            "Берём файлы из папки \"horse\" и даём им класс 2\n",
            "Берём файлы из папки \"cow\" и даём им класс 3\n",
            "Берём файлы из папки \"chicken\" и даём им класс 4\n"
          ]
        }
      ],
      "source": [
        "filenames = []\n",
        "labels = []\n",
        "path = \"animal\"\n",
        "for idx, class_dir in enumerate(os.listdir(path)):\n",
        "  print(f\"Берём файлы из папки \\\"{class_dir}\\\" и даём им класс {idx}\")\n",
        "\n",
        "  for file in os.listdir(os.path.join(path, class_dir)):\n",
        "    if not file.endswith((\".jpg\", \".jpeg\", \".png\")):\n",
        "      continue\n",
        "\n",
        "    filenames.append(os.path.join(path, class_dir, file))\n",
        "    labels.append(idx)"
      ],
      "id": "0fd90a85"
    },
    {
      "cell_type": "markdown",
      "metadata": {
        "id": "v0fn9m4c8Gb2"
      },
      "source": [
        "Затем датасет разбивается на тренировочную и тестовую выборки в отношении 70/30."
      ],
      "id": "v0fn9m4c8Gb2"
    },
    {
      "cell_type": "code",
      "execution_count": 6,
      "metadata": {
        "id": "982dc23a"
      },
      "outputs": [],
      "source": [
        "train_filenames, test_filenames, train_labels, test_labels = train_test_split(filenames, labels, test_size=0.3, random_state=42)"
      ],
      "id": "982dc23a"
    },
    {
      "cell_type": "markdown",
      "metadata": {
        "id": "1ynB9iPG9Hsv"
      },
      "source": [
        "Функция add_pad служит для добавления полей к изображениям, чтобы привести их к квадратному формату."
      ],
      "id": "1ynB9iPG9Hsv"
    },
    {
      "cell_type": "code",
      "execution_count": 7,
      "metadata": {
        "id": "f92dfb86"
      },
      "outputs": [],
      "source": [
        "def add_pad(img, shape):\n",
        "  color_pick = img[0][0]\n",
        "  padded_img = color_pick * np.ones(shape + img.shape[2:3], dtype=np.uint8)\n",
        "  x_offset = int((padded_img.shape[0] - img.shape[0]) / 2)\n",
        "  y_offset = int((padded_img.shape[1] - img.shape[1]) / 2)\n",
        "  padded_img[x_offset:x_offset + img.shape[0], y_offset:y_offset + img.shape[1]] = img\n",
        "  return padded_img"
      ],
      "id": "f92dfb86"
    },
    {
      "cell_type": "markdown",
      "metadata": {
        "id": "CxS3Tpc99JLu"
      },
      "source": [
        "Функция resize меняет разрешение изображения."
      ],
      "id": "CxS3Tpc99JLu"
    },
    {
      "cell_type": "code",
      "execution_count": 8,
      "metadata": {
        "id": "99b1461d"
      },
      "outputs": [],
      "source": [
        "def resize(img, shape):\n",
        "  scale = min(shape[0] * 1.0 / img.shape[0], shape[1] * 1.0 / img.shape[1])\n",
        "  if scale != 1:\n",
        "    img = cv2.resize(img, dsize=None, fx=scale, fy=scale, interpolation=cv2.INTER_LINEAR)\n",
        "  return img"
      ],
      "id": "99b1461d"
    },
    {
      "cell_type": "markdown",
      "metadata": {
        "id": "Yu5kLad89KRR"
      },
      "source": [
        "Функция transform_album применяет аугментации к изображению."
      ],
      "id": "Yu5kLad89KRR"
    },
    {
      "cell_type": "code",
      "execution_count": 9,
      "metadata": {
        "id": "b2e0fc47"
      },
      "outputs": [],
      "source": [
        "def transform_album(image):\n",
        "  transform = A.Compose([\n",
        "    A.RandomRotate90(),\n",
        "    A.Flip(),\n",
        "    A.Transpose(),\n",
        "    A.OneOf([\n",
        "      A.IAAAdditiveGaussianNoise(),\n",
        "      A.GaussNoise(),\n",
        "    ], p=0.2),\n",
        "    A.OneOf([\n",
        "      A.MotionBlur(p=.2),\n",
        "      A.MedianBlur(blur_limit=3, p=0.1),\n",
        "      A.Blur(blur_limit=3, p=0.1),\n",
        "    ], p=0.2),\n",
        "    A.ShiftScaleRotate(shift_limit=0.0625, scale_limit=0.2, rotate_limit=45, p=0.2),\n",
        "    A.OneOf([\n",
        "      A.OpticalDistortion(p=0.3),\n",
        "      A.GridDistortion(p=.1),\n",
        "      A.IAAPiecewiseAffine(p=0.3),\n",
        "    ], p=0.2),\n",
        "    A.OneOf([\n",
        "      A.CLAHE(clip_limit=2),\n",
        "      A.IAASharpen(),\n",
        "      A.IAAEmboss(),\n",
        "      A.RandomBrightnessContrast(),\n",
        "    ], p=0.3),\n",
        "    A.HueSaturationValue(p=0.3),\n",
        "  ])\n",
        "  random.seed(42)\n",
        "  augmented_image = transform(image=image)[\"image\"]\n",
        "  return augmented_image"
      ],
      "id": "b2e0fc47"
    },
    {
      "cell_type": "markdown",
      "metadata": {
        "id": "yWSmUXab9xeb"
      },
      "source": [
        "Класс TrainAnimalDataset возвращает преобразованное изображение по индексу для тренировочной выборки с аугментациями."
      ],
      "id": "yWSmUXab9xeb"
    },
    {
      "cell_type": "code",
      "execution_count": 10,
      "metadata": {
        "id": "d3fd4afc"
      },
      "outputs": [],
      "source": [
        "class TrainAnimalDataset(Dataset):\n",
        "  def __init__(self, filenames, labels):\n",
        "    self._filenames = filenames\n",
        "    self._labels = labels\n",
        "\n",
        "  def __len__(self):\n",
        "    return len(self._filenames)\n",
        "\n",
        "  def __getitem__(self, idx):\n",
        "    filename = self._filenames[idx]\n",
        "    label = self._labels[idx]\n",
        "    img = cv2.imread(filename)\n",
        "    img = cv2.cvtColor(img, cv2.COLOR_BGR2RGB)\n",
        "    img = resize(img, (224, 224))\n",
        "    img = add_pad(img, (224, 224))\n",
        "    img = transform_album(img)\n",
        "    img = torch.tensor(img, dtype=torch.float).permute(2, 0, 1) / 255.\n",
        "    return img, label"
      ],
      "id": "d3fd4afc"
    },
    {
      "cell_type": "markdown",
      "metadata": {
        "id": "raIv8x_PvPPu"
      },
      "source": [
        "Класс TestAnimalDataset возвращает преобразованное изображение по индексу для тестовой выборки без аугментаций."
      ],
      "id": "raIv8x_PvPPu"
    },
    {
      "cell_type": "code",
      "execution_count": 11,
      "metadata": {
        "id": "yYB0t0GPvTqV"
      },
      "outputs": [],
      "source": [
        "class TestAnimalDataset(Dataset):\n",
        "  def __init__(self, filenames, labels):\n",
        "    self._filenames = filenames\n",
        "    self._labels = labels\n",
        "\n",
        "  def __len__(self):\n",
        "    return len(self._filenames)\n",
        "\n",
        "  def __getitem__(self, idx):\n",
        "    filename = self._filenames[idx]\n",
        "    label = self._labels[idx]\n",
        "    img = cv2.imread(filename)\n",
        "    img = cv2.cvtColor(img, cv2.COLOR_BGR2RGB)\n",
        "    img = resize(img, (224, 224))\n",
        "    img = add_pad(img, (224, 224))\n",
        "    img = torch.tensor(img, dtype=torch.float).permute(2, 0, 1) / 255.\n",
        "    return img, label"
      ],
      "id": "yYB0t0GPvTqV"
    },
    {
      "cell_type": "markdown",
      "metadata": {
        "id": "S_scagUkCJJq"
      },
      "source": [
        "Для тренировочной и тестовой выборки создаются датасеты и даталоадеры. Dataloader просит возвращать Dataset данные по idx и составляет из них батчи."
      ],
      "id": "S_scagUkCJJq"
    },
    {
      "cell_type": "code",
      "execution_count": 12,
      "metadata": {
        "id": "a6a75d36"
      },
      "outputs": [],
      "source": [
        "train_dataset = TrainAnimalDataset(train_filenames, train_labels)\n",
        "train_dataloader = DataLoader(train_dataset, shuffle=True, batch_size=64, num_workers=0)\n",
        "test_dataset = TestAnimalDataset(test_filenames, test_labels)\n",
        "test_dataloader = DataLoader(test_dataset, shuffle=True, batch_size=108, num_workers=0)"
      ],
      "id": "a6a75d36"
    },
    {
      "cell_type": "markdown",
      "metadata": {
        "id": "77l60B47Cybs"
      },
      "source": [
        "В качестве исходной модели выступает предобученная SEResNext50. В ней последний слой заменяется на голову, классифицирующую изображение на 1 из 5 классов. CrossEntropyLoss берётся в качестве лосса, а Adam - в качестве оптимизатора. Все слои сети, кроме последнего, замораживаются. Далее он будет обучаться. С помощью библиотеки lr_finder был подобран начальный коэффициент скорости обучения."
      ],
      "id": "77l60B47Cybs"
    },
    {
      "cell_type": "code",
      "execution_count": 13,
      "metadata": {
        "id": "ed8622b3",
        "colab": {
          "base_uri": "https://localhost:8080/"
        },
        "outputId": "20f6a701-e0f9-45de-dbf5-04341f297bef"
      },
      "outputs": [
        {
          "output_type": "stream",
          "name": "stderr",
          "text": [
            "Downloading: \"https://github.com/rwightman/pytorch-image-models/releases/download/v0.1-weights/seresnext50_32x4d_racm-a304a460.pth\" to /root/.cache/torch/hub/checkpoints/seresnext50_32x4d_racm-a304a460.pth\n"
          ]
        }
      ],
      "source": [
        "model = timm.create_model(\"seresnext50_32x4d\", pretrained=True)\n",
        "for param in model.parameters():\n",
        "  param.requires_grad = False\n",
        "\n",
        "criterion = torch.nn.CrossEntropyLoss()\n",
        "optimizer = torch.optim.Adam(model.parameters(), lr=0.0001)\n",
        "optimizer_div10 = torch.optim.Adam(model.parameters(), lr=0.00001)\n",
        "# lr_finder = LRFinder(model, optimizer, criterion, device=\"cuda\")\n",
        "# lr_finder.range_test(train_dataloader, end_lr=100, num_iter=100)\n",
        "# lr_finder.plot()\n",
        "# lr_finder.reset()"
      ],
      "id": "ed8622b3"
    },
    {
      "cell_type": "markdown",
      "metadata": {
        "id": "0nfoDRhSFlI7"
      },
      "source": [
        "Последний слой на 1000 классов удаляется и заменяется на новый с выходом на 5 классов."
      ],
      "id": "0nfoDRhSFlI7"
    },
    {
      "cell_type": "code",
      "execution_count": 14,
      "metadata": {
        "id": "5c531ba2",
        "colab": {
          "base_uri": "https://localhost:8080/"
        },
        "outputId": "00d9c62a-6712-495d-c025-dcb0fb2e6fbd"
      },
      "outputs": [
        {
          "output_type": "execute_result",
          "data": {
            "text/plain": [
              "ResNet(\n",
              "  (conv1): Conv2d(3, 64, kernel_size=(7, 7), stride=(2, 2), padding=(3, 3), bias=False)\n",
              "  (bn1): BatchNorm2d(64, eps=1e-05, momentum=0.1, affine=True, track_running_stats=True)\n",
              "  (act1): ReLU(inplace=True)\n",
              "  (maxpool): MaxPool2d(kernel_size=3, stride=2, padding=1, dilation=1, ceil_mode=False)\n",
              "  (layer1): Sequential(\n",
              "    (0): Bottleneck(\n",
              "      (conv1): Conv2d(64, 128, kernel_size=(1, 1), stride=(1, 1), bias=False)\n",
              "      (bn1): BatchNorm2d(128, eps=1e-05, momentum=0.1, affine=True, track_running_stats=True)\n",
              "      (act1): ReLU(inplace=True)\n",
              "      (conv2): Conv2d(128, 128, kernel_size=(3, 3), stride=(1, 1), padding=(1, 1), groups=32, bias=False)\n",
              "      (bn2): BatchNorm2d(128, eps=1e-05, momentum=0.1, affine=True, track_running_stats=True)\n",
              "      (act2): ReLU(inplace=True)\n",
              "      (conv3): Conv2d(128, 256, kernel_size=(1, 1), stride=(1, 1), bias=False)\n",
              "      (bn3): BatchNorm2d(256, eps=1e-05, momentum=0.1, affine=True, track_running_stats=True)\n",
              "      (se): SEModule(\n",
              "        (fc1): Conv2d(256, 16, kernel_size=(1, 1), stride=(1, 1))\n",
              "        (bn): Identity()\n",
              "        (act): ReLU(inplace=True)\n",
              "        (fc2): Conv2d(16, 256, kernel_size=(1, 1), stride=(1, 1))\n",
              "        (gate): Sigmoid()\n",
              "      )\n",
              "      (act3): ReLU(inplace=True)\n",
              "      (downsample): Sequential(\n",
              "        (0): Conv2d(64, 256, kernel_size=(1, 1), stride=(1, 1), bias=False)\n",
              "        (1): BatchNorm2d(256, eps=1e-05, momentum=0.1, affine=True, track_running_stats=True)\n",
              "      )\n",
              "    )\n",
              "    (1): Bottleneck(\n",
              "      (conv1): Conv2d(256, 128, kernel_size=(1, 1), stride=(1, 1), bias=False)\n",
              "      (bn1): BatchNorm2d(128, eps=1e-05, momentum=0.1, affine=True, track_running_stats=True)\n",
              "      (act1): ReLU(inplace=True)\n",
              "      (conv2): Conv2d(128, 128, kernel_size=(3, 3), stride=(1, 1), padding=(1, 1), groups=32, bias=False)\n",
              "      (bn2): BatchNorm2d(128, eps=1e-05, momentum=0.1, affine=True, track_running_stats=True)\n",
              "      (act2): ReLU(inplace=True)\n",
              "      (conv3): Conv2d(128, 256, kernel_size=(1, 1), stride=(1, 1), bias=False)\n",
              "      (bn3): BatchNorm2d(256, eps=1e-05, momentum=0.1, affine=True, track_running_stats=True)\n",
              "      (se): SEModule(\n",
              "        (fc1): Conv2d(256, 16, kernel_size=(1, 1), stride=(1, 1))\n",
              "        (bn): Identity()\n",
              "        (act): ReLU(inplace=True)\n",
              "        (fc2): Conv2d(16, 256, kernel_size=(1, 1), stride=(1, 1))\n",
              "        (gate): Sigmoid()\n",
              "      )\n",
              "      (act3): ReLU(inplace=True)\n",
              "    )\n",
              "    (2): Bottleneck(\n",
              "      (conv1): Conv2d(256, 128, kernel_size=(1, 1), stride=(1, 1), bias=False)\n",
              "      (bn1): BatchNorm2d(128, eps=1e-05, momentum=0.1, affine=True, track_running_stats=True)\n",
              "      (act1): ReLU(inplace=True)\n",
              "      (conv2): Conv2d(128, 128, kernel_size=(3, 3), stride=(1, 1), padding=(1, 1), groups=32, bias=False)\n",
              "      (bn2): BatchNorm2d(128, eps=1e-05, momentum=0.1, affine=True, track_running_stats=True)\n",
              "      (act2): ReLU(inplace=True)\n",
              "      (conv3): Conv2d(128, 256, kernel_size=(1, 1), stride=(1, 1), bias=False)\n",
              "      (bn3): BatchNorm2d(256, eps=1e-05, momentum=0.1, affine=True, track_running_stats=True)\n",
              "      (se): SEModule(\n",
              "        (fc1): Conv2d(256, 16, kernel_size=(1, 1), stride=(1, 1))\n",
              "        (bn): Identity()\n",
              "        (act): ReLU(inplace=True)\n",
              "        (fc2): Conv2d(16, 256, kernel_size=(1, 1), stride=(1, 1))\n",
              "        (gate): Sigmoid()\n",
              "      )\n",
              "      (act3): ReLU(inplace=True)\n",
              "    )\n",
              "  )\n",
              "  (layer2): Sequential(\n",
              "    (0): Bottleneck(\n",
              "      (conv1): Conv2d(256, 256, kernel_size=(1, 1), stride=(1, 1), bias=False)\n",
              "      (bn1): BatchNorm2d(256, eps=1e-05, momentum=0.1, affine=True, track_running_stats=True)\n",
              "      (act1): ReLU(inplace=True)\n",
              "      (conv2): Conv2d(256, 256, kernel_size=(3, 3), stride=(2, 2), padding=(1, 1), groups=32, bias=False)\n",
              "      (bn2): BatchNorm2d(256, eps=1e-05, momentum=0.1, affine=True, track_running_stats=True)\n",
              "      (act2): ReLU(inplace=True)\n",
              "      (conv3): Conv2d(256, 512, kernel_size=(1, 1), stride=(1, 1), bias=False)\n",
              "      (bn3): BatchNorm2d(512, eps=1e-05, momentum=0.1, affine=True, track_running_stats=True)\n",
              "      (se): SEModule(\n",
              "        (fc1): Conv2d(512, 32, kernel_size=(1, 1), stride=(1, 1))\n",
              "        (bn): Identity()\n",
              "        (act): ReLU(inplace=True)\n",
              "        (fc2): Conv2d(32, 512, kernel_size=(1, 1), stride=(1, 1))\n",
              "        (gate): Sigmoid()\n",
              "      )\n",
              "      (act3): ReLU(inplace=True)\n",
              "      (downsample): Sequential(\n",
              "        (0): Conv2d(256, 512, kernel_size=(1, 1), stride=(2, 2), bias=False)\n",
              "        (1): BatchNorm2d(512, eps=1e-05, momentum=0.1, affine=True, track_running_stats=True)\n",
              "      )\n",
              "    )\n",
              "    (1): Bottleneck(\n",
              "      (conv1): Conv2d(512, 256, kernel_size=(1, 1), stride=(1, 1), bias=False)\n",
              "      (bn1): BatchNorm2d(256, eps=1e-05, momentum=0.1, affine=True, track_running_stats=True)\n",
              "      (act1): ReLU(inplace=True)\n",
              "      (conv2): Conv2d(256, 256, kernel_size=(3, 3), stride=(1, 1), padding=(1, 1), groups=32, bias=False)\n",
              "      (bn2): BatchNorm2d(256, eps=1e-05, momentum=0.1, affine=True, track_running_stats=True)\n",
              "      (act2): ReLU(inplace=True)\n",
              "      (conv3): Conv2d(256, 512, kernel_size=(1, 1), stride=(1, 1), bias=False)\n",
              "      (bn3): BatchNorm2d(512, eps=1e-05, momentum=0.1, affine=True, track_running_stats=True)\n",
              "      (se): SEModule(\n",
              "        (fc1): Conv2d(512, 32, kernel_size=(1, 1), stride=(1, 1))\n",
              "        (bn): Identity()\n",
              "        (act): ReLU(inplace=True)\n",
              "        (fc2): Conv2d(32, 512, kernel_size=(1, 1), stride=(1, 1))\n",
              "        (gate): Sigmoid()\n",
              "      )\n",
              "      (act3): ReLU(inplace=True)\n",
              "    )\n",
              "    (2): Bottleneck(\n",
              "      (conv1): Conv2d(512, 256, kernel_size=(1, 1), stride=(1, 1), bias=False)\n",
              "      (bn1): BatchNorm2d(256, eps=1e-05, momentum=0.1, affine=True, track_running_stats=True)\n",
              "      (act1): ReLU(inplace=True)\n",
              "      (conv2): Conv2d(256, 256, kernel_size=(3, 3), stride=(1, 1), padding=(1, 1), groups=32, bias=False)\n",
              "      (bn2): BatchNorm2d(256, eps=1e-05, momentum=0.1, affine=True, track_running_stats=True)\n",
              "      (act2): ReLU(inplace=True)\n",
              "      (conv3): Conv2d(256, 512, kernel_size=(1, 1), stride=(1, 1), bias=False)\n",
              "      (bn3): BatchNorm2d(512, eps=1e-05, momentum=0.1, affine=True, track_running_stats=True)\n",
              "      (se): SEModule(\n",
              "        (fc1): Conv2d(512, 32, kernel_size=(1, 1), stride=(1, 1))\n",
              "        (bn): Identity()\n",
              "        (act): ReLU(inplace=True)\n",
              "        (fc2): Conv2d(32, 512, kernel_size=(1, 1), stride=(1, 1))\n",
              "        (gate): Sigmoid()\n",
              "      )\n",
              "      (act3): ReLU(inplace=True)\n",
              "    )\n",
              "    (3): Bottleneck(\n",
              "      (conv1): Conv2d(512, 256, kernel_size=(1, 1), stride=(1, 1), bias=False)\n",
              "      (bn1): BatchNorm2d(256, eps=1e-05, momentum=0.1, affine=True, track_running_stats=True)\n",
              "      (act1): ReLU(inplace=True)\n",
              "      (conv2): Conv2d(256, 256, kernel_size=(3, 3), stride=(1, 1), padding=(1, 1), groups=32, bias=False)\n",
              "      (bn2): BatchNorm2d(256, eps=1e-05, momentum=0.1, affine=True, track_running_stats=True)\n",
              "      (act2): ReLU(inplace=True)\n",
              "      (conv3): Conv2d(256, 512, kernel_size=(1, 1), stride=(1, 1), bias=False)\n",
              "      (bn3): BatchNorm2d(512, eps=1e-05, momentum=0.1, affine=True, track_running_stats=True)\n",
              "      (se): SEModule(\n",
              "        (fc1): Conv2d(512, 32, kernel_size=(1, 1), stride=(1, 1))\n",
              "        (bn): Identity()\n",
              "        (act): ReLU(inplace=True)\n",
              "        (fc2): Conv2d(32, 512, kernel_size=(1, 1), stride=(1, 1))\n",
              "        (gate): Sigmoid()\n",
              "      )\n",
              "      (act3): ReLU(inplace=True)\n",
              "    )\n",
              "  )\n",
              "  (layer3): Sequential(\n",
              "    (0): Bottleneck(\n",
              "      (conv1): Conv2d(512, 512, kernel_size=(1, 1), stride=(1, 1), bias=False)\n",
              "      (bn1): BatchNorm2d(512, eps=1e-05, momentum=0.1, affine=True, track_running_stats=True)\n",
              "      (act1): ReLU(inplace=True)\n",
              "      (conv2): Conv2d(512, 512, kernel_size=(3, 3), stride=(2, 2), padding=(1, 1), groups=32, bias=False)\n",
              "      (bn2): BatchNorm2d(512, eps=1e-05, momentum=0.1, affine=True, track_running_stats=True)\n",
              "      (act2): ReLU(inplace=True)\n",
              "      (conv3): Conv2d(512, 1024, kernel_size=(1, 1), stride=(1, 1), bias=False)\n",
              "      (bn3): BatchNorm2d(1024, eps=1e-05, momentum=0.1, affine=True, track_running_stats=True)\n",
              "      (se): SEModule(\n",
              "        (fc1): Conv2d(1024, 64, kernel_size=(1, 1), stride=(1, 1))\n",
              "        (bn): Identity()\n",
              "        (act): ReLU(inplace=True)\n",
              "        (fc2): Conv2d(64, 1024, kernel_size=(1, 1), stride=(1, 1))\n",
              "        (gate): Sigmoid()\n",
              "      )\n",
              "      (act3): ReLU(inplace=True)\n",
              "      (downsample): Sequential(\n",
              "        (0): Conv2d(512, 1024, kernel_size=(1, 1), stride=(2, 2), bias=False)\n",
              "        (1): BatchNorm2d(1024, eps=1e-05, momentum=0.1, affine=True, track_running_stats=True)\n",
              "      )\n",
              "    )\n",
              "    (1): Bottleneck(\n",
              "      (conv1): Conv2d(1024, 512, kernel_size=(1, 1), stride=(1, 1), bias=False)\n",
              "      (bn1): BatchNorm2d(512, eps=1e-05, momentum=0.1, affine=True, track_running_stats=True)\n",
              "      (act1): ReLU(inplace=True)\n",
              "      (conv2): Conv2d(512, 512, kernel_size=(3, 3), stride=(1, 1), padding=(1, 1), groups=32, bias=False)\n",
              "      (bn2): BatchNorm2d(512, eps=1e-05, momentum=0.1, affine=True, track_running_stats=True)\n",
              "      (act2): ReLU(inplace=True)\n",
              "      (conv3): Conv2d(512, 1024, kernel_size=(1, 1), stride=(1, 1), bias=False)\n",
              "      (bn3): BatchNorm2d(1024, eps=1e-05, momentum=0.1, affine=True, track_running_stats=True)\n",
              "      (se): SEModule(\n",
              "        (fc1): Conv2d(1024, 64, kernel_size=(1, 1), stride=(1, 1))\n",
              "        (bn): Identity()\n",
              "        (act): ReLU(inplace=True)\n",
              "        (fc2): Conv2d(64, 1024, kernel_size=(1, 1), stride=(1, 1))\n",
              "        (gate): Sigmoid()\n",
              "      )\n",
              "      (act3): ReLU(inplace=True)\n",
              "    )\n",
              "    (2): Bottleneck(\n",
              "      (conv1): Conv2d(1024, 512, kernel_size=(1, 1), stride=(1, 1), bias=False)\n",
              "      (bn1): BatchNorm2d(512, eps=1e-05, momentum=0.1, affine=True, track_running_stats=True)\n",
              "      (act1): ReLU(inplace=True)\n",
              "      (conv2): Conv2d(512, 512, kernel_size=(3, 3), stride=(1, 1), padding=(1, 1), groups=32, bias=False)\n",
              "      (bn2): BatchNorm2d(512, eps=1e-05, momentum=0.1, affine=True, track_running_stats=True)\n",
              "      (act2): ReLU(inplace=True)\n",
              "      (conv3): Conv2d(512, 1024, kernel_size=(1, 1), stride=(1, 1), bias=False)\n",
              "      (bn3): BatchNorm2d(1024, eps=1e-05, momentum=0.1, affine=True, track_running_stats=True)\n",
              "      (se): SEModule(\n",
              "        (fc1): Conv2d(1024, 64, kernel_size=(1, 1), stride=(1, 1))\n",
              "        (bn): Identity()\n",
              "        (act): ReLU(inplace=True)\n",
              "        (fc2): Conv2d(64, 1024, kernel_size=(1, 1), stride=(1, 1))\n",
              "        (gate): Sigmoid()\n",
              "      )\n",
              "      (act3): ReLU(inplace=True)\n",
              "    )\n",
              "    (3): Bottleneck(\n",
              "      (conv1): Conv2d(1024, 512, kernel_size=(1, 1), stride=(1, 1), bias=False)\n",
              "      (bn1): BatchNorm2d(512, eps=1e-05, momentum=0.1, affine=True, track_running_stats=True)\n",
              "      (act1): ReLU(inplace=True)\n",
              "      (conv2): Conv2d(512, 512, kernel_size=(3, 3), stride=(1, 1), padding=(1, 1), groups=32, bias=False)\n",
              "      (bn2): BatchNorm2d(512, eps=1e-05, momentum=0.1, affine=True, track_running_stats=True)\n",
              "      (act2): ReLU(inplace=True)\n",
              "      (conv3): Conv2d(512, 1024, kernel_size=(1, 1), stride=(1, 1), bias=False)\n",
              "      (bn3): BatchNorm2d(1024, eps=1e-05, momentum=0.1, affine=True, track_running_stats=True)\n",
              "      (se): SEModule(\n",
              "        (fc1): Conv2d(1024, 64, kernel_size=(1, 1), stride=(1, 1))\n",
              "        (bn): Identity()\n",
              "        (act): ReLU(inplace=True)\n",
              "        (fc2): Conv2d(64, 1024, kernel_size=(1, 1), stride=(1, 1))\n",
              "        (gate): Sigmoid()\n",
              "      )\n",
              "      (act3): ReLU(inplace=True)\n",
              "    )\n",
              "    (4): Bottleneck(\n",
              "      (conv1): Conv2d(1024, 512, kernel_size=(1, 1), stride=(1, 1), bias=False)\n",
              "      (bn1): BatchNorm2d(512, eps=1e-05, momentum=0.1, affine=True, track_running_stats=True)\n",
              "      (act1): ReLU(inplace=True)\n",
              "      (conv2): Conv2d(512, 512, kernel_size=(3, 3), stride=(1, 1), padding=(1, 1), groups=32, bias=False)\n",
              "      (bn2): BatchNorm2d(512, eps=1e-05, momentum=0.1, affine=True, track_running_stats=True)\n",
              "      (act2): ReLU(inplace=True)\n",
              "      (conv3): Conv2d(512, 1024, kernel_size=(1, 1), stride=(1, 1), bias=False)\n",
              "      (bn3): BatchNorm2d(1024, eps=1e-05, momentum=0.1, affine=True, track_running_stats=True)\n",
              "      (se): SEModule(\n",
              "        (fc1): Conv2d(1024, 64, kernel_size=(1, 1), stride=(1, 1))\n",
              "        (bn): Identity()\n",
              "        (act): ReLU(inplace=True)\n",
              "        (fc2): Conv2d(64, 1024, kernel_size=(1, 1), stride=(1, 1))\n",
              "        (gate): Sigmoid()\n",
              "      )\n",
              "      (act3): ReLU(inplace=True)\n",
              "    )\n",
              "    (5): Bottleneck(\n",
              "      (conv1): Conv2d(1024, 512, kernel_size=(1, 1), stride=(1, 1), bias=False)\n",
              "      (bn1): BatchNorm2d(512, eps=1e-05, momentum=0.1, affine=True, track_running_stats=True)\n",
              "      (act1): ReLU(inplace=True)\n",
              "      (conv2): Conv2d(512, 512, kernel_size=(3, 3), stride=(1, 1), padding=(1, 1), groups=32, bias=False)\n",
              "      (bn2): BatchNorm2d(512, eps=1e-05, momentum=0.1, affine=True, track_running_stats=True)\n",
              "      (act2): ReLU(inplace=True)\n",
              "      (conv3): Conv2d(512, 1024, kernel_size=(1, 1), stride=(1, 1), bias=False)\n",
              "      (bn3): BatchNorm2d(1024, eps=1e-05, momentum=0.1, affine=True, track_running_stats=True)\n",
              "      (se): SEModule(\n",
              "        (fc1): Conv2d(1024, 64, kernel_size=(1, 1), stride=(1, 1))\n",
              "        (bn): Identity()\n",
              "        (act): ReLU(inplace=True)\n",
              "        (fc2): Conv2d(64, 1024, kernel_size=(1, 1), stride=(1, 1))\n",
              "        (gate): Sigmoid()\n",
              "      )\n",
              "      (act3): ReLU(inplace=True)\n",
              "    )\n",
              "  )\n",
              "  (layer4): Sequential(\n",
              "    (0): Bottleneck(\n",
              "      (conv1): Conv2d(1024, 1024, kernel_size=(1, 1), stride=(1, 1), bias=False)\n",
              "      (bn1): BatchNorm2d(1024, eps=1e-05, momentum=0.1, affine=True, track_running_stats=True)\n",
              "      (act1): ReLU(inplace=True)\n",
              "      (conv2): Conv2d(1024, 1024, kernel_size=(3, 3), stride=(2, 2), padding=(1, 1), groups=32, bias=False)\n",
              "      (bn2): BatchNorm2d(1024, eps=1e-05, momentum=0.1, affine=True, track_running_stats=True)\n",
              "      (act2): ReLU(inplace=True)\n",
              "      (conv3): Conv2d(1024, 2048, kernel_size=(1, 1), stride=(1, 1), bias=False)\n",
              "      (bn3): BatchNorm2d(2048, eps=1e-05, momentum=0.1, affine=True, track_running_stats=True)\n",
              "      (se): SEModule(\n",
              "        (fc1): Conv2d(2048, 128, kernel_size=(1, 1), stride=(1, 1))\n",
              "        (bn): Identity()\n",
              "        (act): ReLU(inplace=True)\n",
              "        (fc2): Conv2d(128, 2048, kernel_size=(1, 1), stride=(1, 1))\n",
              "        (gate): Sigmoid()\n",
              "      )\n",
              "      (act3): ReLU(inplace=True)\n",
              "      (downsample): Sequential(\n",
              "        (0): Conv2d(1024, 2048, kernel_size=(1, 1), stride=(2, 2), bias=False)\n",
              "        (1): BatchNorm2d(2048, eps=1e-05, momentum=0.1, affine=True, track_running_stats=True)\n",
              "      )\n",
              "    )\n",
              "    (1): Bottleneck(\n",
              "      (conv1): Conv2d(2048, 1024, kernel_size=(1, 1), stride=(1, 1), bias=False)\n",
              "      (bn1): BatchNorm2d(1024, eps=1e-05, momentum=0.1, affine=True, track_running_stats=True)\n",
              "      (act1): ReLU(inplace=True)\n",
              "      (conv2): Conv2d(1024, 1024, kernel_size=(3, 3), stride=(1, 1), padding=(1, 1), groups=32, bias=False)\n",
              "      (bn2): BatchNorm2d(1024, eps=1e-05, momentum=0.1, affine=True, track_running_stats=True)\n",
              "      (act2): ReLU(inplace=True)\n",
              "      (conv3): Conv2d(1024, 2048, kernel_size=(1, 1), stride=(1, 1), bias=False)\n",
              "      (bn3): BatchNorm2d(2048, eps=1e-05, momentum=0.1, affine=True, track_running_stats=True)\n",
              "      (se): SEModule(\n",
              "        (fc1): Conv2d(2048, 128, kernel_size=(1, 1), stride=(1, 1))\n",
              "        (bn): Identity()\n",
              "        (act): ReLU(inplace=True)\n",
              "        (fc2): Conv2d(128, 2048, kernel_size=(1, 1), stride=(1, 1))\n",
              "        (gate): Sigmoid()\n",
              "      )\n",
              "      (act3): ReLU(inplace=True)\n",
              "    )\n",
              "    (2): Bottleneck(\n",
              "      (conv1): Conv2d(2048, 1024, kernel_size=(1, 1), stride=(1, 1), bias=False)\n",
              "      (bn1): BatchNorm2d(1024, eps=1e-05, momentum=0.1, affine=True, track_running_stats=True)\n",
              "      (act1): ReLU(inplace=True)\n",
              "      (conv2): Conv2d(1024, 1024, kernel_size=(3, 3), stride=(1, 1), padding=(1, 1), groups=32, bias=False)\n",
              "      (bn2): BatchNorm2d(1024, eps=1e-05, momentum=0.1, affine=True, track_running_stats=True)\n",
              "      (act2): ReLU(inplace=True)\n",
              "      (conv3): Conv2d(1024, 2048, kernel_size=(1, 1), stride=(1, 1), bias=False)\n",
              "      (bn3): BatchNorm2d(2048, eps=1e-05, momentum=0.1, affine=True, track_running_stats=True)\n",
              "      (se): SEModule(\n",
              "        (fc1): Conv2d(2048, 128, kernel_size=(1, 1), stride=(1, 1))\n",
              "        (bn): Identity()\n",
              "        (act): ReLU(inplace=True)\n",
              "        (fc2): Conv2d(128, 2048, kernel_size=(1, 1), stride=(1, 1))\n",
              "        (gate): Sigmoid()\n",
              "      )\n",
              "      (act3): ReLU(inplace=True)\n",
              "    )\n",
              "  )\n",
              "  (global_pool): SelectAdaptivePool2d (pool_type=avg, flatten=Flatten(start_dim=1, end_dim=-1))\n",
              "  (fc): Linear(in_features=2048, out_features=5, bias=True)\n",
              ")"
            ]
          },
          "metadata": {},
          "execution_count": 14
        }
      ],
      "source": [
        "num_ftrs = model.fc.in_features\n",
        "model.fc = torch.nn.Linear(num_ftrs, 5)\n",
        "model.to(\"cuda\")"
      ],
      "id": "5c531ba2"
    },
    {
      "cell_type": "markdown",
      "metadata": {
        "id": "lD-9VUwNDUkb"
      },
      "source": [
        "Функция run_test_on_epoch считает точность модели - на вход передается сама модель, номер эпохи и тестовый лоадер."
      ],
      "id": "lD-9VUwNDUkb"
    },
    {
      "cell_type": "code",
      "execution_count": 15,
      "metadata": {
        "id": "7881ef03"
      },
      "outputs": [],
      "source": [
        "def run_test_on_epoch(model, epoch, test_loader):\n",
        "  model.eval()\n",
        "  with torch.no_grad():\n",
        "    test_accuracy = []\n",
        "    test_real = []\n",
        "    for batch_x, batch_y in tqdm(test_loader):\n",
        "      outputs = model(batch_x.to(\"cuda\")).detach().cpu().numpy()\n",
        "      test_accuracy.append(outputs)\n",
        "      test_real.append(batch_y.detach().cpu().numpy())\n",
        "    print(\"Точность теста эпохи\", epoch, \"равна\", accuracy_score(np.hstack(test_real), np.argmax(np.hstack(test_accuracy), axis=1)))\n",
        "  model.train()"
      ],
      "id": "7881ef03"
    },
    {
      "cell_type": "markdown",
      "metadata": {
        "id": "E5wEHVPNDcZ3"
      },
      "source": [
        "Обучение модели проходит в течение 25 эпох. Для последних 5 эпох коэффициент скорости обучения уменьшен в 10 раз. Последние 3 слоя размораживаются. В конце каждой эпохи вызывается run_test_on_epoch, чтобы следить за точностью теста эпохи."
      ],
      "id": "E5wEHVPNDcZ3"
    },
    {
      "cell_type": "code",
      "execution_count": 16,
      "metadata": {
        "id": "9da415d0",
        "colab": {
          "base_uri": "https://localhost:8080/"
        },
        "outputId": "37f32958-d80e-4035-f7a5-ad5359ceb5df"
      },
      "outputs": [
        {
          "output_type": "stream",
          "name": "stderr",
          "text": [
            "  0%|          | 0/25 [00:00<?, ?it/s]\n",
            "  0%|          | 0/1 [00:00<?, ?it/s]\u001b[A\n",
            "100%|██████████| 1/1 [00:01<00:00,  1.71s/it]\n",
            "  4%|▍         | 1/25 [00:08<03:26,  8.60s/it]"
          ]
        },
        {
          "output_type": "stream",
          "name": "stdout",
          "text": [
            "Точность теста эпохи 0 равна 0.24444444444444444\n"
          ]
        },
        {
          "output_type": "stream",
          "name": "stderr",
          "text": [
            "\n",
            "  0%|          | 0/1 [00:00<?, ?it/s]\u001b[A\n",
            "100%|██████████| 1/1 [00:01<00:00,  1.75s/it]\n",
            "  8%|▊         | 2/25 [00:16<03:13,  8.41s/it]"
          ]
        },
        {
          "output_type": "stream",
          "name": "stdout",
          "text": [
            "Точность теста эпохи 1 равна 0.4222222222222222\n"
          ]
        },
        {
          "output_type": "stream",
          "name": "stderr",
          "text": [
            "\n",
            "  0%|          | 0/1 [00:00<?, ?it/s]\u001b[A\n",
            "100%|██████████| 1/1 [00:01<00:00,  1.75s/it]\n",
            " 12%|█▏        | 3/25 [00:25<03:03,  8.35s/it]"
          ]
        },
        {
          "output_type": "stream",
          "name": "stdout",
          "text": [
            "Точность теста эпохи 2 равна 0.5111111111111111\n"
          ]
        },
        {
          "output_type": "stream",
          "name": "stderr",
          "text": [
            "\n",
            "  0%|          | 0/1 [00:00<?, ?it/s]\u001b[A\n",
            "100%|██████████| 1/1 [00:01<00:00,  1.75s/it]\n",
            " 16%|█▌        | 4/25 [00:33<02:55,  8.34s/it]"
          ]
        },
        {
          "output_type": "stream",
          "name": "stdout",
          "text": [
            "Точность теста эпохи 3 равна 0.7333333333333333\n"
          ]
        },
        {
          "output_type": "stream",
          "name": "stderr",
          "text": [
            "\n",
            "  0%|          | 0/1 [00:00<?, ?it/s]\u001b[A\n",
            "100%|██████████| 1/1 [00:01<00:00,  1.75s/it]\n",
            " 20%|██        | 5/25 [00:41<02:46,  8.33s/it]"
          ]
        },
        {
          "output_type": "stream",
          "name": "stdout",
          "text": [
            "Точность теста эпохи 4 равна 0.8666666666666667\n"
          ]
        },
        {
          "output_type": "stream",
          "name": "stderr",
          "text": [
            "\n",
            "  0%|          | 0/1 [00:00<?, ?it/s]\u001b[A\n",
            "100%|██████████| 1/1 [00:01<00:00,  1.79s/it]\n",
            " 24%|██▍       | 6/25 [00:50<02:38,  8.34s/it]"
          ]
        },
        {
          "output_type": "stream",
          "name": "stdout",
          "text": [
            "Точность теста эпохи 5 равна 0.9333333333333333\n"
          ]
        },
        {
          "output_type": "stream",
          "name": "stderr",
          "text": [
            "\n",
            "  0%|          | 0/1 [00:00<?, ?it/s]\u001b[A\n",
            "100%|██████████| 1/1 [00:01<00:00,  1.76s/it]\n",
            " 28%|██▊       | 7/25 [00:58<02:30,  8.34s/it]"
          ]
        },
        {
          "output_type": "stream",
          "name": "stdout",
          "text": [
            "Точность теста эпохи 6 равна 0.9555555555555556\n"
          ]
        },
        {
          "output_type": "stream",
          "name": "stderr",
          "text": [
            "\n",
            "  0%|          | 0/1 [00:00<?, ?it/s]\u001b[A\n",
            "100%|██████████| 1/1 [00:01<00:00,  1.75s/it]\n",
            " 32%|███▏      | 8/25 [01:06<02:22,  8.37s/it]"
          ]
        },
        {
          "output_type": "stream",
          "name": "stdout",
          "text": [
            "Точность теста эпохи 7 равна 0.9555555555555556\n"
          ]
        },
        {
          "output_type": "stream",
          "name": "stderr",
          "text": [
            "\n",
            "  0%|          | 0/1 [00:00<?, ?it/s]\u001b[A\n",
            "100%|██████████| 1/1 [00:01<00:00,  1.73s/it]\n",
            " 36%|███▌      | 9/25 [01:15<02:13,  8.33s/it]"
          ]
        },
        {
          "output_type": "stream",
          "name": "stdout",
          "text": [
            "Точность теста эпохи 8 равна 0.9555555555555556\n"
          ]
        },
        {
          "output_type": "stream",
          "name": "stderr",
          "text": [
            "\n",
            "  0%|          | 0/1 [00:00<?, ?it/s]\u001b[A\n",
            "100%|██████████| 1/1 [00:01<00:00,  1.73s/it]\n",
            " 40%|████      | 10/25 [01:23<02:04,  8.30s/it]"
          ]
        },
        {
          "output_type": "stream",
          "name": "stdout",
          "text": [
            "Точность теста эпохи 9 равна 0.9333333333333333\n"
          ]
        },
        {
          "output_type": "stream",
          "name": "stderr",
          "text": [
            "\n",
            "  0%|          | 0/1 [00:00<?, ?it/s]\u001b[A\n",
            "100%|██████████| 1/1 [00:01<00:00,  1.73s/it]\n",
            " 44%|████▍     | 11/25 [01:31<01:55,  8.28s/it]"
          ]
        },
        {
          "output_type": "stream",
          "name": "stdout",
          "text": [
            "Точность теста эпохи 10 равна 0.9333333333333333\n"
          ]
        },
        {
          "output_type": "stream",
          "name": "stderr",
          "text": [
            "\n",
            "  0%|          | 0/1 [00:00<?, ?it/s]\u001b[A\n",
            "100%|██████████| 1/1 [00:01<00:00,  1.72s/it]\n",
            " 48%|████▊     | 12/25 [01:39<01:47,  8.25s/it]"
          ]
        },
        {
          "output_type": "stream",
          "name": "stdout",
          "text": [
            "Точность теста эпохи 11 равна 0.9555555555555556\n"
          ]
        },
        {
          "output_type": "stream",
          "name": "stderr",
          "text": [
            "\n",
            "  0%|          | 0/1 [00:00<?, ?it/s]\u001b[A\n",
            "100%|██████████| 1/1 [00:01<00:00,  1.69s/it]\n",
            " 52%|█████▏    | 13/25 [01:48<01:38,  8.23s/it]"
          ]
        },
        {
          "output_type": "stream",
          "name": "stdout",
          "text": [
            "Точность теста эпохи 12 равна 0.9555555555555556\n"
          ]
        },
        {
          "output_type": "stream",
          "name": "stderr",
          "text": [
            "\n",
            "  0%|          | 0/1 [00:00<?, ?it/s]\u001b[A\n",
            "100%|██████████| 1/1 [00:01<00:00,  1.68s/it]\n",
            " 56%|█████▌    | 14/25 [01:56<01:30,  8.23s/it]"
          ]
        },
        {
          "output_type": "stream",
          "name": "stdout",
          "text": [
            "Точность теста эпохи 13 равна 0.9555555555555556\n"
          ]
        },
        {
          "output_type": "stream",
          "name": "stderr",
          "text": [
            "\n",
            "  0%|          | 0/1 [00:00<?, ?it/s]\u001b[A\n",
            "100%|██████████| 1/1 [00:01<00:00,  1.70s/it]\n",
            " 60%|██████    | 15/25 [02:04<01:22,  8.22s/it]"
          ]
        },
        {
          "output_type": "stream",
          "name": "stdout",
          "text": [
            "Точность теста эпохи 14 равна 0.9555555555555556\n"
          ]
        },
        {
          "output_type": "stream",
          "name": "stderr",
          "text": [
            "\n",
            "  0%|          | 0/1 [00:00<?, ?it/s]\u001b[A\n",
            "100%|██████████| 1/1 [00:01<00:00,  1.70s/it]\n",
            " 64%|██████▍   | 16/25 [02:12<01:14,  8.23s/it]"
          ]
        },
        {
          "output_type": "stream",
          "name": "stdout",
          "text": [
            "Точность теста эпохи 15 равна 0.9333333333333333\n"
          ]
        },
        {
          "output_type": "stream",
          "name": "stderr",
          "text": [
            "\n",
            "  0%|          | 0/1 [00:00<?, ?it/s]\u001b[A\n",
            "100%|██████████| 1/1 [00:01<00:00,  1.68s/it]\n",
            " 68%|██████▊   | 17/25 [02:20<01:05,  8.20s/it]"
          ]
        },
        {
          "output_type": "stream",
          "name": "stdout",
          "text": [
            "Точность теста эпохи 16 равна 0.9333333333333333\n"
          ]
        },
        {
          "output_type": "stream",
          "name": "stderr",
          "text": [
            "\n",
            "  0%|          | 0/1 [00:00<?, ?it/s]\u001b[A\n",
            "100%|██████████| 1/1 [00:01<00:00,  1.70s/it]\n",
            " 72%|███████▏  | 18/25 [02:28<00:57,  8.18s/it]"
          ]
        },
        {
          "output_type": "stream",
          "name": "stdout",
          "text": [
            "Точность теста эпохи 17 равна 0.9111111111111111\n"
          ]
        },
        {
          "output_type": "stream",
          "name": "stderr",
          "text": [
            "\n",
            "  0%|          | 0/1 [00:00<?, ?it/s]\u001b[A\n",
            "100%|██████████| 1/1 [00:01<00:00,  1.74s/it]\n",
            " 76%|███████▌  | 19/25 [02:37<00:49,  8.20s/it]"
          ]
        },
        {
          "output_type": "stream",
          "name": "stdout",
          "text": [
            "Точность теста эпохи 18 равна 0.9111111111111111\n"
          ]
        },
        {
          "output_type": "stream",
          "name": "stderr",
          "text": [
            "\n",
            "  0%|          | 0/1 [00:00<?, ?it/s]\u001b[A\n",
            "100%|██████████| 1/1 [00:01<00:00,  1.73s/it]\n",
            " 80%|████████  | 20/25 [02:45<00:41,  8.22s/it]"
          ]
        },
        {
          "output_type": "stream",
          "name": "stdout",
          "text": [
            "Точность теста эпохи 19 равна 0.9111111111111111\n"
          ]
        },
        {
          "output_type": "stream",
          "name": "stderr",
          "text": [
            "\n",
            "  0%|          | 0/1 [00:00<?, ?it/s]\u001b[A\n",
            "100%|██████████| 1/1 [00:01<00:00,  1.72s/it]\n",
            " 84%|████████▍ | 21/25 [02:53<00:33,  8.25s/it]"
          ]
        },
        {
          "output_type": "stream",
          "name": "stdout",
          "text": [
            "Точность теста эпохи 20 равна 0.8888888888888888\n"
          ]
        },
        {
          "output_type": "stream",
          "name": "stderr",
          "text": [
            "\n",
            "  0%|          | 0/1 [00:00<?, ?it/s]\u001b[A\n",
            "100%|██████████| 1/1 [00:01<00:00,  1.71s/it]\n",
            " 88%|████████▊ | 22/25 [03:02<00:24,  8.30s/it]"
          ]
        },
        {
          "output_type": "stream",
          "name": "stdout",
          "text": [
            "Точность теста эпохи 21 равна 0.8666666666666667\n"
          ]
        },
        {
          "output_type": "stream",
          "name": "stderr",
          "text": [
            "\n",
            "  0%|          | 0/1 [00:00<?, ?it/s]\u001b[A\n",
            "100%|██████████| 1/1 [00:01<00:00,  1.73s/it]\n",
            " 92%|█████████▏| 23/25 [03:10<00:16,  8.29s/it]"
          ]
        },
        {
          "output_type": "stream",
          "name": "stdout",
          "text": [
            "Точность теста эпохи 22 равна 0.8444444444444444\n"
          ]
        },
        {
          "output_type": "stream",
          "name": "stderr",
          "text": [
            "\n",
            "  0%|          | 0/1 [00:00<?, ?it/s]\u001b[A\n",
            "100%|██████████| 1/1 [00:01<00:00,  1.78s/it]\n",
            " 96%|█████████▌| 24/25 [03:18<00:08,  8.30s/it]"
          ]
        },
        {
          "output_type": "stream",
          "name": "stdout",
          "text": [
            "Точность теста эпохи 23 равна 0.8222222222222222\n"
          ]
        },
        {
          "output_type": "stream",
          "name": "stderr",
          "text": [
            "\n",
            "  0%|          | 0/1 [00:00<?, ?it/s]\u001b[A\n",
            "100%|██████████| 1/1 [00:01<00:00,  1.79s/it]\n",
            "100%|██████████| 25/25 [03:27<00:00,  8.29s/it]"
          ]
        },
        {
          "output_type": "stream",
          "name": "stdout",
          "text": [
            "Точность теста эпохи 24 равна 0.8\n"
          ]
        },
        {
          "output_type": "stream",
          "name": "stderr",
          "text": [
            "\n"
          ]
        }
      ],
      "source": [
        "ct = 0\n",
        "for child in model.children():\n",
        "  ct += 1\n",
        "  if ct < 47:\n",
        "    for param in child.parameters():\n",
        "      param.requires_grad = True\n",
        "\n",
        "for epoch in tqdm(range(25)):\n",
        "  for batch in train_dataloader:\n",
        "    if epoch < 20:\n",
        "      optimizer.zero_grad()\n",
        "    else:\n",
        "      optimizer_div10.zero_grad()\n",
        "    image, label = batch\n",
        "    image = image.to(\"cuda\")\n",
        "    label = label.to(\"cuda\")\n",
        "    label_pred = model(image)\n",
        "    loss = criterion(label_pred, label)\n",
        "    loss.backward()\n",
        "    if epoch < 20:\n",
        "      optimizer.step()\n",
        "    else:\n",
        "      optimizer_div10.step()\n",
        "\n",
        "  run_test_on_epoch(model, epoch, test_dataloader)"
      ],
      "id": "9da415d0"
    }
  ],
  "metadata": {
    "accelerator": "GPU",
    "colab": {
      "collapsed_sections": [],
      "name": "NewTask6.ipynb",
      "provenance": []
    },
    "kernelspec": {
      "display_name": "Python 3 (ipykernel)",
      "language": "python",
      "name": "python3"
    },
    "language_info": {
      "codemirror_mode": {
        "name": "ipython",
        "version": 3
      },
      "file_extension": ".py",
      "mimetype": "text/x-python",
      "name": "python",
      "nbconvert_exporter": "python",
      "pygments_lexer": "ipython3",
      "version": "3.8.6"
    }
  },
  "nbformat": 4,
  "nbformat_minor": 5
}