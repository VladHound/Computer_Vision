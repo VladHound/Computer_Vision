{
 "cells": [
  {
   "cell_type": "code",
   "execution_count": 1,
   "id": "19a1c295",
   "metadata": {},
   "outputs": [],
   "source": [
    "import cv2"
   ]
  },
  {
   "cell_type": "code",
   "execution_count": 2,
   "id": "0f320401",
   "metadata": {},
   "outputs": [],
   "source": [
    "haar_path = \"C:/Users/vladp/PycharmProjects/pythonProject/venv/Lib/site-packages/cv2/data/haarcascade_frontalface_default.xml\""
   ]
  },
  {
   "cell_type": "code",
   "execution_count": 3,
   "id": "bd0154bf",
   "metadata": {},
   "outputs": [],
   "source": [
    "def haar(filename, cascade_path, scale_factor=1.1, min_neighbors=5, min_size=(10, 10)):\n",
    "    cascade = cv2.CascadeClassifier(cascade_path)\n",
    "    bgr_image = cv2.imread(filename)\n",
    "    gray_image = cv2.cvtColor(bgr_image, cv2.COLOR_BGR2GRAY)\n",
    "    detected = cascade.detectMultiScale(gray_image, scaleFactor=scale_factor, minNeighbors=min_neighbors, minSize=min_size)\n",
    "    print(\"Обнаружено:\", str(len(detected)))\n",
    "    for (x, y, w, h) in detected:\n",
    "        cv2.rectangle(bgr_image, (x, y), (x + w, y + h), (255, 0, 0), 2)\n",
    "    cv2.imwrite(\"haar_\" + str(scale_factor) + \"_\" + str(min_neighbors) + \"_\" + str(min_size) + \".jpg\", bgr_image)"
   ]
  },
  {
   "cell_type": "code",
   "execution_count": 4,
   "id": "aaf14c48",
   "metadata": {},
   "outputs": [
    {
     "name": "stdout",
     "output_type": "stream",
     "text": [
      "Обнаружено: 6\n"
     ]
    }
   ],
   "source": [
    "haar(\"photo.jpg\", haar_path)"
   ]
  },
  {
   "cell_type": "code",
   "execution_count": 5,
   "id": "2c5b6ead",
   "metadata": {},
   "outputs": [
    {
     "name": "stdout",
     "output_type": "stream",
     "text": [
      "Обнаружено: 4\n"
     ]
    }
   ],
   "source": [
    "haar(\"photo.jpg\", haar_path, min_neighbors=7)"
   ]
  },
  {
   "cell_type": "code",
   "execution_count": 6,
   "id": "a11200f3",
   "metadata": {},
   "outputs": [
    {
     "name": "stdout",
     "output_type": "stream",
     "text": [
      "Обнаружено: 4\n"
     ]
    }
   ],
   "source": [
    "haar(\"photo.jpg\", haar_path, scale_factor=1.2, min_size=(50, 50))"
   ]
  }
 ],
 "metadata": {
  "kernelspec": {
   "display_name": "Python 3 (ipykernel)",
   "language": "python",
   "name": "python3"
  },
  "language_info": {
   "codemirror_mode": {
    "name": "ipython",
    "version": 3
   },
   "file_extension": ".py",
   "mimetype": "text/x-python",
   "name": "python",
   "nbconvert_exporter": "python",
   "pygments_lexer": "ipython3",
   "version": "3.8.6"
  }
 },
 "nbformat": 4,
 "nbformat_minor": 5
}
