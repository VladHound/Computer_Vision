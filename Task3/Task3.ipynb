{
 "cells": [
  {
   "cell_type": "code",
   "execution_count": 1,
   "id": "ced0cdac",
   "metadata": {},
   "outputs": [],
   "source": [
    "import cv2"
   ]
  },
  {
   "cell_type": "code",
   "execution_count": 2,
   "id": "4118b5f6",
   "metadata": {},
   "outputs": [],
   "source": [
    "def equalize_hist(filename):\n",
    "    bgr_image = cv2.imread(filename)\n",
    "    yuv_image = cv2.cvtColor(bgr_image, cv2.COLOR_BGR2YUV)\n",
    "    yuv_image[:, :, 0] = cv2.equalizeHist(yuv_image[:, :, 0])\n",
    "    res = cv2.cvtColor(yuv_image, cv2.COLOR_YUV2BGR)\n",
    "    cv2.imwrite(\"equalize_hist_\" + filename, res)"
   ]
  },
  {
   "cell_type": "code",
   "execution_count": 3,
   "id": "9c4a9e23",
   "metadata": {},
   "outputs": [],
   "source": [
    "equalize_hist(\"photo.jpg\")"
   ]
  },
  {
   "cell_type": "code",
   "execution_count": 4,
   "id": "66d15c68",
   "metadata": {},
   "outputs": [],
   "source": [
    "def clahe(filename, tile_size=(8, 8)):\n",
    "    bgr_image = cv2.imread(filename)\n",
    "    yuv_image = cv2.cvtColor(bgr_image, cv2.COLOR_BGR2YUV)\n",
    "    clahe = cv2.createCLAHE(clipLimit=2.0, tileGridSize=tile_size)\n",
    "    yuv_image[:, :, 0] = clahe.apply(yuv_image[:, :, 0])\n",
    "    res = cv2.cvtColor(yuv_image, cv2.COLOR_YUV2BGR)\n",
    "    cv2.imwrite(\"clahe_\" + str(tile_size[0]) + \"_\" + str(tile_size[1]) + \"_\" + filename, res)"
   ]
  },
  {
   "cell_type": "code",
   "execution_count": 5,
   "id": "97c2e6c5",
   "metadata": {},
   "outputs": [],
   "source": [
    "clahe(\"photo.jpg\")"
   ]
  },
  {
   "cell_type": "code",
   "execution_count": 6,
   "id": "83e0450d",
   "metadata": {},
   "outputs": [],
   "source": [
    "def gaussian_blur(filename, kernel_size=21):\n",
    "    image = cv2.imread(filename)\n",
    "    res = cv2.GaussianBlur(image, (kernel_size, kernel_size), sigmaX=0)\n",
    "    cv2.imwrite(\"gaussian_blur_\" + str(kernel_size) + \"_\" + filename, res)"
   ]
  },
  {
   "cell_type": "code",
   "execution_count": 7,
   "id": "62d55376",
   "metadata": {},
   "outputs": [],
   "source": [
    "gaussian_blur(\"photo.jpg\", kernel_size=51)"
   ]
  },
  {
   "cell_type": "code",
   "execution_count": 8,
   "id": "0d83a9d0",
   "metadata": {},
   "outputs": [],
   "source": [
    "def sobel_x(filename):\n",
    "    image = cv2.imread(filename, 0)\n",
    "    res = cv2.Sobel(image, cv2.CV_64F, 1, 0, ksize=5)\n",
    "    cv2.imwrite(\"sobel_x_\" + filename, res)"
   ]
  },
  {
   "cell_type": "code",
   "execution_count": 9,
   "id": "9267de62",
   "metadata": {},
   "outputs": [],
   "source": [
    "sobel_x(\"photo.jpg\")"
   ]
  },
  {
   "cell_type": "code",
   "execution_count": 10,
   "id": "738cfaa3",
   "metadata": {},
   "outputs": [],
   "source": [
    "def sobel_y(filename):\n",
    "    image = cv2.imread(filename, 0)\n",
    "    res = cv2.Sobel(image, cv2.CV_64F, 0, 1, ksize=5)\n",
    "    cv2.imwrite(\"sobel_y_\" + filename, res)"
   ]
  },
  {
   "cell_type": "code",
   "execution_count": 11,
   "id": "be93e889",
   "metadata": {},
   "outputs": [],
   "source": [
    "sobel_y(\"photo.jpg\")"
   ]
  },
  {
   "cell_type": "code",
   "execution_count": 12,
   "id": "43f89733",
   "metadata": {},
   "outputs": [],
   "source": [
    "def laplacian(filename):\n",
    "    image = cv2.imread(filename, 0)\n",
    "    res = cv2.Laplacian(image, cv2.CV_64F)\n",
    "    cv2.imwrite(\"laplacian_\" + filename, res)"
   ]
  },
  {
   "cell_type": "code",
   "execution_count": 13,
   "id": "2fcc7746",
   "metadata": {},
   "outputs": [],
   "source": [
    "laplacian(\"photo.jpg\")"
   ]
  }
 ],
 "metadata": {
  "kernelspec": {
   "display_name": "Python 3 (ipykernel)",
   "language": "python",
   "name": "python3"
  },
  "language_info": {
   "codemirror_mode": {
    "name": "ipython",
    "version": 3
   },
   "file_extension": ".py",
   "mimetype": "text/x-python",
   "name": "python",
   "nbconvert_exporter": "python",
   "pygments_lexer": "ipython3",
   "version": "3.8.6"
  }
 },
 "nbformat": 4,
 "nbformat_minor": 5
}
