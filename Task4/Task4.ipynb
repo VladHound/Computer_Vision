{
 "cells": [
  {
   "cell_type": "code",
   "execution_count": 1,
   "id": "87f902e8",
   "metadata": {},
   "outputs": [],
   "source": [
    "import cv2\n",
    "import numpy as np"
   ]
  },
  {
   "cell_type": "code",
   "execution_count": 2,
   "id": "91530b31",
   "metadata": {},
   "outputs": [],
   "source": [
    "def pyramid_blending(filename_1, filename_2, height=6):\n",
    "    A = cv2.imread(filename_1)\n",
    "    B = cv2.imread(filename_2)\n",
    "\n",
    "    G = A.copy()\n",
    "    gpA = [G]\n",
    "    for i in range(height):\n",
    "        G = cv2.pyrDown(G)\n",
    "        gpA.append(G)\n",
    "\n",
    "    G = B.copy()\n",
    "    gpB = [G]\n",
    "    for i in range(height):\n",
    "        G = cv2.pyrDown(G)\n",
    "        gpB.append(G)\n",
    "\n",
    "    lpA = [gpA[height - 1]]\n",
    "    for i in range(height - 1, 0, -1):\n",
    "        GE = cv2.pyrUp(gpA[i])\n",
    "        rows, cols, _ = gpA[i - 1].shape\n",
    "        GE = GE[:rows, :cols]\n",
    "        L = cv2.subtract(gpA[i - 1], GE)\n",
    "        lpA.append(L)\n",
    "\n",
    "    lpB = [gpB[height - 1]]\n",
    "    for i in range(height - 1, 0, -1):\n",
    "        GE = cv2.pyrUp(gpB[i])\n",
    "        rows, cols, _ = gpB[i - 1].shape\n",
    "        GE = GE[:rows, :cols]\n",
    "        L = cv2.subtract(gpB[i - 1], GE)\n",
    "        lpB.append(L)\n",
    "\n",
    "    LS = []\n",
    "    for la, lb in zip(lpA, lpB):\n",
    "        _, cols, _ = la.shape\n",
    "        ls = np.hstack((la[:, :int(cols / 2)], lb[:, int(cols / 2):]))\n",
    "        LS.append(ls)\n",
    "\n",
    "    ls_ = LS[0]\n",
    "    for i in range(1, height):\n",
    "        ls_ = cv2.pyrUp(ls_)\n",
    "        rows, cols, _ = LS[i].shape\n",
    "        ls_ = ls_[:rows, :cols]\n",
    "        ls_ = cv2.add(ls_, LS[i])\n",
    "\n",
    "    real = np.hstack((A[:, :int(cols / 2)], B[:, int(cols / 2):]))\n",
    "\n",
    "    cv2.imwrite(\"pyramid_blending_\" + str(height) + \".jpg\", ls_)\n",
    "    cv2.imwrite(\"direct_blending.jpg\", real)"
   ]
  },
  {
   "cell_type": "code",
   "execution_count": 3,
   "id": "cd06ac5d",
   "metadata": {},
   "outputs": [],
   "source": [
    "pyramid_blending(\"apple.jpg\", \"orange.jpg\", height=10)"
   ]
  },
  {
   "cell_type": "code",
   "execution_count": 4,
   "id": "69b0faee",
   "metadata": {},
   "outputs": [],
   "source": [
    "def alpha_blending(foreground_filename, background_filename, alpha_mask_filename):\n",
    "    foreground = cv2.imread(foreground_filename)\n",
    "    background = cv2.imread(background_filename)\n",
    "    alpha = cv2.imread(alpha_mask_filename)\n",
    "    foreground = foreground.astype(float)\n",
    "    background = background.astype(float)\n",
    "    alpha = alpha.astype(float) / 255\n",
    "    foreground = cv2.multiply(alpha, foreground)\n",
    "    background = cv2.multiply(1.0 - alpha, background)\n",
    "    res = cv2.add(foreground, background)\n",
    "    cv2.imwrite(\"alpha_blending.jpg\", res)"
   ]
  },
  {
   "cell_type": "code",
   "execution_count": 5,
   "id": "c81e7937",
   "metadata": {},
   "outputs": [],
   "source": [
    "alpha_blending(\"foreground.png\", \"background.png\", \"mask.png\")"
   ]
  }
 ],
 "metadata": {
  "kernelspec": {
   "display_name": "Python 3 (ipykernel)",
   "language": "python",
   "name": "python3"
  },
  "language_info": {
   "codemirror_mode": {
    "name": "ipython",
    "version": 3
   },
   "file_extension": ".py",
   "mimetype": "text/x-python",
   "name": "python",
   "nbconvert_exporter": "python",
   "pygments_lexer": "ipython3",
   "version": "3.8.6"
  }
 },
 "nbformat": 4,
 "nbformat_minor": 5
}
